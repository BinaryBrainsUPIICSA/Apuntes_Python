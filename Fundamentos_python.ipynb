{
  "nbformat": 4,
  "nbformat_minor": 0,
  "metadata": {
    "colab": {
      "provenance": [],
      "include_colab_link": true
    },
    "kernelspec": {
      "name": "python3",
      "display_name": "Python 3"
    },
    "language_info": {
      "name": "python"
    }
  },
  "cells": [
    {
      "cell_type": "markdown",
      "metadata": {
        "id": "view-in-github",
        "colab_type": "text"
      },
      "source": [
        "<a href=\"https://colab.research.google.com/github/BinaryBrainsUPIICSA/Apuntes_Python/blob/main/Fundamentos_python.ipynb\" target=\"_parent\"><img src=\"https://colab.research.google.com/assets/colab-badge.svg\" alt=\"Open In Colab\"/></a>"
      ]
    },
    {
      "cell_type": "markdown",
      "source": [
        "## HOLA MUNDO"
      ],
      "metadata": {
        "id": "soLRFLxlchSX"
      }
    },
    {
      "cell_type": "code",
      "source": [
        "print(\"Hola mundo\")"
      ],
      "metadata": {
        "colab": {
          "base_uri": "https://localhost:8080/"
        },
        "id": "V3wprXMVcxUs",
        "outputId": "b6634bb1-36d7-4eea-b5a0-8b8ed06f64da"
      },
      "execution_count": null,
      "outputs": [
        {
          "output_type": "stream",
          "name": "stdout",
          "text": [
            "Hola mundo\n"
          ]
        }
      ]
    },
    {
      "cell_type": "code",
      "source": [
        "print('Hola mundo')"
      ],
      "metadata": {
        "colab": {
          "base_uri": "https://localhost:8080/"
        },
        "id": "J9TrSW3xdTMn",
        "outputId": "ce7f4353-3bb9-43da-e11b-a0fdd490c517"
      },
      "execution_count": null,
      "outputs": [
        {
          "output_type": "stream",
          "name": "stdout",
          "text": [
            "Hola mundo\n"
          ]
        }
      ]
    },
    {
      "cell_type": "markdown",
      "source": [
        "## Comentarios"
      ],
      "metadata": {
        "id": "Zv6MgmWqdcXO"
      }
    },
    {
      "cell_type": "code",
      "source": [
        "# primer comentario"
      ],
      "metadata": {
        "id": "Hk1ndE3ide6Y"
      },
      "execution_count": null,
      "outputs": []
    },
    {
      "cell_type": "code",
      "source": [
        "'''\n",
        "print(\"hola mundo\")\n",
        "'''\n",
        "\n",
        "\"\"\"\n",
        "print('hola mundo')\n",
        "\"\"\""
      ],
      "metadata": {
        "id": "NqJPOefBdh1X"
      },
      "execution_count": null,
      "outputs": []
    },
    {
      "cell_type": "markdown",
      "source": [
        "## VARIABLES"
      ],
      "metadata": {
        "id": "rk-fBQ2Pdy5c"
      }
    },
    {
      "cell_type": "code",
      "source": [
        "my_name = input(\"Cuál es tu nombre?\")\n",
        "print(\"Mi nombre es:\", my_name)"
      ],
      "metadata": {
        "colab": {
          "base_uri": "https://localhost:8080/"
        },
        "id": "Pd3OHcmCd6Sv",
        "outputId": "5efe7144-62cf-4cb6-b8b4-c5990d894e9a"
      },
      "execution_count": null,
      "outputs": [
        {
          "output_type": "stream",
          "name": "stdout",
          "text": [
            "Cuál es tu nombre?edu\n",
            "Mi nombre es: edu\n"
          ]
        }
      ]
    },
    {
      "cell_type": "code",
      "source": [
        "print(type(my_name))"
      ],
      "metadata": {
        "colab": {
          "base_uri": "https://localhost:8080/"
        },
        "id": "h13nIFvQeQZv",
        "outputId": "172d6055-58e3-4965-cf8c-07f3f174eeb0"
      },
      "execution_count": null,
      "outputs": [
        {
          "output_type": "stream",
          "name": "stdout",
          "text": [
            "<class 'str'>\n"
          ]
        }
      ]
    },
    {
      "cell_type": "code",
      "source": [
        "age = int(input('Cuál es tu edad?'))\n",
        "print(type(age))\n",
        "print(\"Mi edad es \"+ str(age))\n",
        "print(f\"Mi edad es {age}\")\n",
        "print(\"Mi edad es\", age)"
      ],
      "metadata": {
        "colab": {
          "base_uri": "https://localhost:8080/"
        },
        "id": "OreWsCFxenIJ",
        "outputId": "b07fd8de-8ef7-4c7b-d2d9-4242eb4b75eb"
      },
      "execution_count": null,
      "outputs": [
        {
          "output_type": "stream",
          "name": "stdout",
          "text": [
            "Cuál es tu edad?22\n",
            "<class 'int'>\n",
            "Mi edad es 22\n",
            "Mi edad es 22\n",
            "Mi edad es 22\n"
          ]
        }
      ]
    },
    {
      "cell_type": "markdown",
      "source": [
        "## Operaciones aritméticas"
      ],
      "metadata": {
        "id": "QnFrazmTg6pe"
      }
    },
    {
      "cell_type": "code",
      "source": [
        "print(10 + 10)\n",
        "print(10 -5)\n",
        "print(5 * 5)\n",
        "print(2 ** 5)\n",
        "# cosciente\n",
        "print(10 // 3)\n",
        "print(10 / 3)\n",
        "print(10 % 3)"
      ],
      "metadata": {
        "colab": {
          "base_uri": "https://localhost:8080/"
        },
        "id": "uZ4NbaVrhFxe",
        "outputId": "786aa39a-48f5-4bbe-aacf-346c90aed240"
      },
      "execution_count": null,
      "outputs": [
        {
          "output_type": "stream",
          "name": "stdout",
          "text": [
            "20\n",
            "5\n",
            "25\n",
            "32\n",
            "3\n",
            "3.3333333333333335\n",
            "1\n"
          ]
        }
      ]
    },
    {
      "cell_type": "markdown",
      "source": [
        "## Tipos de Datos ✅:"
      ],
      "metadata": {
        "id": "e4zA9CSbgjIk"
      }
    },
    {
      "cell_type": "markdown",
      "source": [
        "\n",
        "\n",
        "1.   Int\n",
        "2.   String\n",
        "3.   Boolean\n",
        "4.   Float\n",
        "\n"
      ],
      "metadata": {
        "id": "cHKKJsvegaG9"
      }
    },
    {
      "cell_type": "markdown",
      "source": [
        "## LISTAS"
      ],
      "metadata": {
        "id": "Kih_SFXvioUa"
      }
    },
    {
      "cell_type": "code",
      "source": [
        "# areas en metros\n",
        "kit = 11.25\n",
        "liv =  20.0\n",
        "bed = 10.75\n",
        "bath = 9.50\n",
        "\n",
        "# list\n",
        "areas = [kit, liv, bed, bath]\n",
        "\n",
        "print(areas)"
      ],
      "metadata": {
        "colab": {
          "base_uri": "https://localhost:8080/"
        },
        "id": "pxB51htSiuuL",
        "outputId": "25369b35-d2b8-4baf-8af7-66b76ea70d75"
      },
      "execution_count": null,
      "outputs": [
        {
          "output_type": "stream",
          "name": "stdout",
          "text": [
            "[11.25, 20.0, 10.75, 9.5]\n"
          ]
        }
      ]
    },
    {
      "cell_type": "code",
      "source": [
        "areas = [\"kitchen\", kit, \"living room\", liv , \"bedroom\" , bed , \"bathroom\" ,bath]\n",
        "print(areas)\n",
        "\n",
        "# consulta de index dentro del arreglo\n",
        "print(areas[4])\n",
        "print(areas[-6])"
      ],
      "metadata": {
        "colab": {
          "base_uri": "https://localhost:8080/"
        },
        "id": "o9AnpTzVjXT8",
        "outputId": "d3087761-1c80-4aa8-a38d-01f5108d7b55"
      },
      "execution_count": null,
      "outputs": [
        {
          "output_type": "stream",
          "name": "stdout",
          "text": [
            "['kitchen', 11.25, 'living room', 20.0, 'bedroom', 10.75, 'bathroom', 9.5]\n",
            "bedroom\n",
            "living room\n"
          ]
        }
      ]
    },
    {
      "cell_type": "markdown",
      "source": [
        "LIST OF LIST"
      ],
      "metadata": {
        "id": "PXgO9w71mT0i"
      }
    },
    {
      "cell_type": "code",
      "source": [
        "house = [[\"kitchen\", kit,],\n",
        "         [\"living room\", liv,],\n",
        "         [\"bedroom\" ,bed,],\n",
        "         [\"bathroom\" ,bath]]"
      ],
      "metadata": {
        "id": "fYBLTZDWlDAI"
      },
      "execution_count": null,
      "outputs": []
    },
    {
      "cell_type": "code",
      "source": [
        "house[2][1]"
      ],
      "metadata": {
        "colab": {
          "base_uri": "https://localhost:8080/"
        },
        "id": "NFVeHC6wmZPv",
        "outputId": "eb8a5176-09f3-47f0-877c-99f4113696f7"
      },
      "execution_count": null,
      "outputs": [
        {
          "output_type": "execute_result",
          "data": {
            "text/plain": [
              "10.75"
            ]
          },
          "metadata": {},
          "execution_count": 13
        }
      ]
    },
    {
      "cell_type": "code",
      "source": [
        "areas1 = [\"kitchen\", kit,\"living room\", liv,\"bedroom\" ,bed,\"bathroom\" ,bath]\n",
        "print(areas1[2:5])"
      ],
      "metadata": {
        "colab": {
          "base_uri": "https://localhost:8080/"
        },
        "id": "FRsgoAiLnOoG",
        "outputId": "5bbaaa0e-81db-4690-fe24-65acb309f496"
      },
      "execution_count": null,
      "outputs": [
        {
          "output_type": "stream",
          "name": "stdout",
          "text": [
            "['living room', 20.0, 'bedroom']\n"
          ]
        }
      ]
    },
    {
      "cell_type": "code",
      "source": [
        "areas1 = [\"kitchen\", kit,\"living room\", liv,\"bedroom\" ,bed,\"bathroom\" ,bath]\n",
        "print(areas1[2:])\n",
        "print(areas1[:-5])"
      ],
      "metadata": {
        "colab": {
          "base_uri": "https://localhost:8080/"
        },
        "id": "Jwu_bMAKqEat",
        "outputId": "8351325f-f7cc-45e5-b520-997a1ae74ce4"
      },
      "execution_count": null,
      "outputs": [
        {
          "output_type": "stream",
          "name": "stdout",
          "text": [
            "['living room', 20.0, 'bedroom', 10.75, 'bathroom', 9.5]\n",
            "['kitchen', 11.25, 'living room']\n"
          ]
        }
      ]
    },
    {
      "cell_type": "code",
      "source": [
        "areas = [\"kitchen\", kit,\"living room\", liv,\"bedroom\" ,bed,\"bathroom\" ,bath]\n",
        "# liv y bath\n",
        "sum = areas[3] * areas[-1]\n",
        "\n",
        "print(sum)\n",
        "print(type(sum))"
      ],
      "metadata": {
        "colab": {
          "base_uri": "https://localhost:8080/"
        },
        "id": "J_aTz-RrpNF6",
        "outputId": "3c8b0a6d-ccd5-47a7-9517-2111e9d08ff4"
      },
      "execution_count": null,
      "outputs": [
        {
          "output_type": "stream",
          "name": "stdout",
          "text": [
            "190.0\n",
            "<class 'float'>\n"
          ]
        }
      ]
    },
    {
      "cell_type": "markdown",
      "source": [
        "## Manipulación de listas"
      ],
      "metadata": {
        "id": "uiV8dtp9tJaa"
      }
    },
    {
      "cell_type": "code",
      "source": [
        "# reemplazar dato :)\n",
        "fam = [\"Edu\", 1.75, \"Tali\", 1.90, \"Ilse\", 1.60]\n",
        "print(fam)\n",
        "# se hace el cambio del elemento en cuestión\n",
        "fam[3] = 1.49\n",
        "# se imprime el dato para observar el cambio\n",
        "print(fam[3])\n",
        "# se imprime la lista para observar el cambio\n",
        "print(fam)\n",
        "\n",
        "# ------------------------------------------------------\n",
        "\n",
        "# agregar elementos\n",
        "fam = fam + [\"Bryan\", 1.80]\n",
        "print(fam)\n",
        "\n",
        "# agregar elementos\n",
        "# puedes agregar más de un elemento\n",
        "fam.extend([\"Carlos\",1.72,\"York\",1.78])\n",
        "print(fam)\n",
        "\n",
        "# agregar elementos con append\n",
        "# solo se puede agregar un solo elemento :(\n",
        "fam.append(\"Mike\")\n",
        "print(fam)"
      ],
      "metadata": {
        "colab": {
          "base_uri": "https://localhost:8080/"
        },
        "id": "4Xb-pSmFsbOi",
        "outputId": "5617d5dc-53eb-4110-a47e-123472f63111"
      },
      "execution_count": null,
      "outputs": [
        {
          "output_type": "stream",
          "name": "stdout",
          "text": [
            "['Edu', 1.75, 'Tali', 1.9, 'Ilse', 1.6]\n",
            "1.49\n",
            "['Edu', 1.75, 'Tali', 1.49, 'Ilse', 1.6]\n",
            "['Edu', 1.75, 'Tali', 1.49, 'Ilse', 1.6, 'Bryan', 1.8]\n",
            "['Edu', 1.75, 'Tali', 1.49, 'Ilse', 1.6, 'Bryan', 1.8, 'Carlos', 1.72, 'York', 1.78]\n",
            "['Edu', 1.75, 'Tali', 1.49, 'Ilse', 1.6, 'Bryan', 1.8, 'Carlos', 1.72, 'York', 1.78, 'Mike']\n"
          ]
        }
      ]
    }
  ]
}