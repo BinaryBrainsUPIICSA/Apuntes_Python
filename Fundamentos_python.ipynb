{
  "nbformat": 4,
  "nbformat_minor": 0,
  "metadata": {
    "colab": {
      "provenance": [],
      "collapsed_sections": [
        "1Pl0yuPueIyQ",
        "56zIE4xbg3xT",
        "Ni680y3Mkg6D",
        "PjUWy7THuWus",
        "2lL7qfykvFW5",
        "UNaatkWyyiGK",
        "2AEBFtKBCNBc",
        "NBN_5UupCUjS",
        "YmCPKiYVFbO4",
        "OJA3nT0WKP25",
        "iG_KvXqmMqRP",
        "D3amCe_2uCRf",
        "Nh6JoqKZuPDz"
      ],
      "authorship_tag": "ABX9TyOGTd4pQeZJD3BhZhhTJgAu",
      "include_colab_link": true
    },
    "kernelspec": {
      "name": "python3",
      "display_name": "Python 3"
    },
    "language_info": {
      "name": "python"
    }
  },
  "cells": [
    {
      "cell_type": "markdown",
      "metadata": {
        "id": "view-in-github",
        "colab_type": "text"
      },
      "source": [
        "<a href=\"https://colab.research.google.com/github/BinaryBrainsUPIICSA/Apuntes_Python/blob/main/Fundamentos_python.ipynb\" target=\"_parent\"><img src=\"https://colab.research.google.com/assets/colab-badge.svg\" alt=\"Open In Colab\"/></a>"
      ]
    },
    {
      "cell_type": "markdown",
      "source": [
        "## HOLA MUNDO"
      ],
      "metadata": {
        "id": "EyoFS_y4bWf-"
      }
    },
    {
      "cell_type": "code",
      "execution_count": null,
      "metadata": {
        "colab": {
          "base_uri": "https://localhost:8080/"
        },
        "id": "gt3EpZ4iYBsJ",
        "outputId": "bc8f8e04-875d-47e5-b25c-740ff2f977db"
      },
      "outputs": [
        {
          "output_type": "stream",
          "name": "stdout",
          "text": [
            "Hola esto es python\n"
          ]
        }
      ],
      "source": [
        "print(\"Hola esto es python\")"
      ]
    },
    {
      "cell_type": "code",
      "source": [
        "nombre= 'Eduardo'\n",
        "print('Hola soy', nombre)"
      ],
      "metadata": {
        "colab": {
          "base_uri": "https://localhost:8080/"
        },
        "id": "vaJyftvRZxxW",
        "outputId": "145b57ad-cff6-4564-d6e8-d4cf059ce5e9"
      },
      "execution_count": null,
      "outputs": [
        {
          "output_type": "stream",
          "name": "stdout",
          "text": [
            "Hola soy Eduardo\n"
          ]
        }
      ]
    },
    {
      "cell_type": "markdown",
      "source": [
        "## **COMENTARIOS**"
      ],
      "metadata": {
        "id": "rFUu8jTubMDj"
      }
    },
    {
      "cell_type": "code",
      "source": [
        "# comentario 1\n",
        "\"\"\" Comentario más largo \"\"\"\n",
        "\n",
        "''' comentario más largo 2 '''"
      ],
      "metadata": {
        "colab": {
          "base_uri": "https://localhost:8080/",
          "height": 36
        },
        "id": "m2EDONLOaLGQ",
        "outputId": "c4687646-b5f6-413c-ce46-57f44abba645"
      },
      "execution_count": null,
      "outputs": [
        {
          "output_type": "execute_result",
          "data": {
            "text/plain": [
              "' comentario más largo 2 '"
            ],
            "application/vnd.google.colaboratory.intrinsic+json": {
              "type": "string"
            }
          },
          "metadata": {},
          "execution_count": 9
        }
      ]
    },
    {
      "cell_type": "markdown",
      "source": [
        "## VARIABLES"
      ],
      "metadata": {
        "id": "ZGFkEz0SbrjU"
      }
    },
    {
      "cell_type": "code",
      "source": [
        "print('Hola, vars')\n",
        "\n",
        "#esto es una variable\n",
        "my_name = 'Eduardo'\n",
        "print(my_name)\n",
        "\n",
        "#esto es un número\n",
        "my_age= 22\n",
        "print(my_age)"
      ],
      "metadata": {
        "colab": {
          "base_uri": "https://localhost:8080/"
        },
        "id": "QtEWUvK4bx1G",
        "outputId": "0ee9c137-e140-4667-ce90-23b9bd332af9"
      },
      "execution_count": null,
      "outputs": [
        {
          "output_type": "stream",
          "name": "stdout",
          "text": [
            "Hola, vars\n",
            "Eduardo\n",
            "22\n"
          ]
        }
      ]
    },
    {
      "cell_type": "code",
      "source": [
        "type(my_age)"
      ],
      "metadata": {
        "colab": {
          "base_uri": "https://localhost:8080/"
        },
        "id": "mEWpouMTdqaT",
        "outputId": "3fd23228-33f5-4828-8fab-263ff84cf455"
      },
      "execution_count": null,
      "outputs": [
        {
          "output_type": "execute_result",
          "data": {
            "text/plain": [
              "int"
            ]
          },
          "metadata": {},
          "execution_count": 25
        }
      ]
    },
    {
      "cell_type": "markdown",
      "source": [
        "## INPUT"
      ],
      "metadata": {
        "id": "KDXKtjK_cWWI"
      }
    },
    {
      "cell_type": "code",
      "source": [
        "#input recibe datos de la variable\n",
        "my_name = input(\"Cuál es tu nombre?\")\n",
        "print('Tu nombre es', my_name)\n",
        "\n",
        "#input con edad\n",
        "my_age=input(\"¿Cuál es tu edadad?\")\n",
        "print(\"Tu edad es\", my_age)"
      ],
      "metadata": {
        "colab": {
          "base_uri": "https://localhost:8080/"
        },
        "id": "hX5zXzcwcaDS",
        "outputId": "74a43e67-ec37-428d-ac2c-1ed4d2288485"
      },
      "execution_count": null,
      "outputs": [
        {
          "output_type": "stream",
          "name": "stdout",
          "text": [
            "Cuál es tu nombre?edu\n",
            "Tu nombre es edu\n",
            "¿Cuál es tu edadad?22\n",
            "Tu edad es 22\n"
          ]
        }
      ]
    },
    {
      "cell_type": "code",
      "source": [
        "type(my_age)"
      ],
      "metadata": {
        "colab": {
          "base_uri": "https://localhost:8080/"
        },
        "id": "rjukL6PHdxMf",
        "outputId": "805171b6-7b7e-40bd-d0e1-990e9ccbfd70"
      },
      "execution_count": null,
      "outputs": [
        {
          "output_type": "execute_result",
          "data": {
            "text/plain": [
              "str"
            ]
          },
          "metadata": {},
          "execution_count": 27
        }
      ]
    },
    {
      "cell_type": "markdown",
      "source": [
        "## TIPOS DE DATOS"
      ],
      "metadata": {
        "id": "1Pl0yuPueIyQ"
      }
    },
    {
      "cell_type": "code",
      "source": [
        "# string (cadena de texto)\n",
        "my_name=('Edu')\n",
        "print(type(my_name))\n",
        "\n",
        "# int( número enteros)\n",
        "my_age= 22\n",
        "print(type(my_age))\n",
        "\n",
        "#boolean\n",
        "is_single= True\n",
        "print(type(is_single))\n",
        "\n",
        "my_age=input(\"¿cual es tu edad?\")\n",
        "print(\"Mi edad es:\",my_age)\n",
        "print(type(my_age))"
      ],
      "metadata": {
        "colab": {
          "base_uri": "https://localhost:8080/"
        },
        "id": "WSrj_AXeeM1U",
        "outputId": "8e356c91-2dad-4ec3-b177-47bb27783e26"
      },
      "execution_count": null,
      "outputs": [
        {
          "output_type": "stream",
          "name": "stdout",
          "text": [
            "<class 'str'>\n",
            "<class 'int'>\n",
            "<class 'bool'>\n",
            "¿cual es tu edad?22\n",
            "Mi edad es: 22\n",
            "<class 'str'>\n"
          ]
        }
      ]
    },
    {
      "cell_type": "markdown",
      "source": [
        "### STRING"
      ],
      "metadata": {
        "id": "56zIE4xbg3xT"
      }
    },
    {
      "cell_type": "code",
      "source": [
        "name = 'Eduardo'\n",
        "last_name= 'Domínguez'\n",
        "print(name)\n",
        "print(last_name)\n",
        "\n",
        "#concatenación\n",
        "full_name= name + \" \" + last_name\n",
        "print(full_name)\n",
        "\n",
        "#comillas\n",
        "quote = \"I'm Edu\"\n",
        "print(quote)\n",
        "\n",
        "#formt\n",
        "template = \"Hello, my name is \" + name + \" mi apellido es \" + last_name\n",
        "print('v1',template)\n",
        "\n",
        "#format2\n",
        "template2= 'Hello, my name is {} y mi apellido es {}'.format(name, last_name)\n",
        "print(\"v2\", template2)\n",
        "\n",
        "#format3\n",
        "template2= f\"Hello, my name is {name} y mi apellido es {last_name}\"\n",
        "print('v3',template2)\n",
        "\n",
        "#ejercicio agregando la concatenación de tu edad\n",
        "age = 22\n",
        "template3= f\"Hello World, my name is {name}, my last name is {last_name} and my age is {age}\"\n",
        "print(template3)\n",
        "print(type(age))"
      ],
      "metadata": {
        "colab": {
          "base_uri": "https://localhost:8080/"
        },
        "id": "qDxw6Y9ag8sW",
        "outputId": "286edac1-7fe0-4d9c-c359-76f67a38e8cb"
      },
      "execution_count": null,
      "outputs": [
        {
          "output_type": "stream",
          "name": "stdout",
          "text": [
            "Eduardo\n",
            "Domínguez\n",
            "Eduardo Domínguez\n",
            "I'm Edu\n",
            "v1 Hello, my name is Eduardo mi apellido es Domínguez\n",
            "v2 Hello, my name is Eduardo y mi apellido es Domínguez\n",
            "v3 Hello, my name is Eduardo y mi apellido es Domínguez\n",
            "Hello World, my name is Eduardo, my last name is Domínguez and my age is 22\n",
            "<class 'int'>\n"
          ]
        }
      ]
    },
    {
      "cell_type": "markdown",
      "source": [
        "### NUMBERS"
      ],
      "metadata": {
        "id": "Ni680y3Mkg6D"
      }
    },
    {
      "cell_type": "code",
      "source": [
        "lives = 3\n",
        "print(type(lives))\n",
        "\n",
        "age = 22\n",
        "budget= 100\n",
        "\n",
        "temperature = 12.40\n",
        "print(type(temperature))\n",
        "\n",
        "lives = 12 + 15\n",
        "print(lives)\n",
        "\n",
        "lives = lives -1\n",
        "print(lives)\n",
        "\n",
        "\n",
        "lives -= 1\n",
        "print(lives)\n",
        "\n",
        "lives += 5\n",
        "print(lives)\n",
        "\n",
        "#ejercicio\n",
        "#sacar el promedio de 3 presupuestos\n",
        "\n",
        "'''budget_january = 30000\n",
        "budget_february = 35000\n",
        "budget_march = 40000\n",
        "promedio= (budget_january + budget_february + budget_march)/3\n",
        "print(f\"El promedio del budget es {promedio}\")\n",
        "print(type(promedio))\n",
        "'''\n",
        "\n",
        "budget_january = int(input(\"Ingresa el presupuesto de January\"))\n",
        "budget_march = int(input(\"Ingresa el presupuesto de March\"))\n",
        "budget_february = int(input(\"Ingresa el presupuesto de February\"))\n",
        "budget = int((budget_january + budget_february + budget_march)/3)\n",
        "print(f'El budget es {budget}')\n",
        "print(type(budget))\n"
      ],
      "metadata": {
        "colab": {
          "base_uri": "https://localhost:8080/"
        },
        "id": "O2L4wizekksb",
        "outputId": "49c9275e-4493-480d-e43a-422f302b4e87"
      },
      "execution_count": null,
      "outputs": [
        {
          "output_type": "stream",
          "name": "stdout",
          "text": [
            "<class 'int'>\n",
            "<class 'float'>\n",
            "27\n",
            "26\n",
            "25\n",
            "30\n",
            "Ingresa el presupuesto de January203034\n",
            "Ingresa el presupuesto de March20302\n",
            "Ingresa el presupuesto de February23029\n",
            "El budget es 82121\n",
            "<class 'int'>\n"
          ]
        }
      ]
    },
    {
      "cell_type": "markdown",
      "source": [
        "### BOOLEANS\n"
      ],
      "metadata": {
        "id": "PjUWy7THuWus"
      }
    },
    {
      "cell_type": "code",
      "source": [
        "is_single= True\n",
        "print(type(is_single))\n",
        "\n",
        "is_single= False\n",
        "print(is_single)\n",
        "\n",
        "#cambia al contrario el boolean\n",
        "print(not False)\n",
        "print(not True)"
      ],
      "metadata": {
        "colab": {
          "base_uri": "https://localhost:8080/"
        },
        "id": "3wNClqWuuZGC",
        "outputId": "bd15f8a2-a5b8-487c-ce51-196da24a7e91"
      },
      "execution_count": null,
      "outputs": [
        {
          "output_type": "stream",
          "name": "stdout",
          "text": [
            "<class 'bool'>\n",
            "False\n",
            "True\n",
            "False\n"
          ]
        }
      ]
    },
    {
      "cell_type": "markdown",
      "source": [
        "## TRANSFORMACIÓN DE TIPOS"
      ],
      "metadata": {
        "id": "2lL7qfykvFW5"
      }
    },
    {
      "cell_type": "markdown",
      "source": [
        "Type conversion\n",
        "Using the + operator to paste together two strings can be very useful in building custom messages.\n",
        "\n",
        "Suppose, for example, that you've calculated your savings want to summarize the results in a string.\n",
        "\n",
        "To do this, you'll need to explicitly convert the types of your variables. More specifically, you'll need str(), to convert a value into a string. str(savings), for example, will convert the integer savings to a string.\n",
        "\n",
        "Similar functions such as int(), float() and bool() will help you convert Python values into any type."
      ],
      "metadata": {
        "id": "cISXDacK35kK"
      }
    },
    {
      "cell_type": "code",
      "source": [
        "name1 = \"Edu\"\n",
        "print(type(name1))\n",
        "age1= 22\n",
        "print(type(age1))\n",
        "\n",
        "#aquí se tendrá que hacer la transformación directa de age1 que es un int\n",
        "#a lo que sería un string para que se pueda concatenar\n",
        "print('Mi nombre es '+ name1 + ' y mi edad es '+ str(age1))\n",
        "\n",
        "#aquí ya no es necesario realizar la transformación por la \",\" y el f\n",
        "print('Mi nombre es',name1 , 'y mi edad es',age1)\n",
        "print(f'Mi nombre es {name1} y mi edad es {age1}')"
      ],
      "metadata": {
        "colab": {
          "base_uri": "https://localhost:8080/"
        },
        "id": "DviuaGAxvIr9",
        "outputId": "13832e4a-16f8-412a-920c-d69bf33f6b53"
      },
      "execution_count": null,
      "outputs": [
        {
          "output_type": "stream",
          "name": "stdout",
          "text": [
            "<class 'str'>\n",
            "<class 'int'>\n",
            "Mi nombre es Edu y mi edad es 22\n",
            "Mi nombre es Edu y mi edad es 22\n",
            "Mi nombre es Edu y mi edad es 22\n"
          ]
        }
      ]
    },
    {
      "cell_type": "code",
      "source": [
        "age2 = int(input(\"Escribe tu edad => \"))\n",
        "age2 +=10\n",
        "print(type(age2))\n",
        "print(f'tu edad en 10 años será {age2}')"
      ],
      "metadata": {
        "colab": {
          "base_uri": "https://localhost:8080/"
        },
        "id": "GTSZ8zpQxe5h",
        "outputId": "99893a51-4309-4f86-d090-d0f648ce706a"
      },
      "execution_count": null,
      "outputs": [
        {
          "output_type": "stream",
          "name": "stdout",
          "text": [
            "Escribe tu edad => 22\n",
            "<class 'int'>\n",
            "tu edad en 10 años será 32\n"
          ]
        }
      ]
    },
    {
      "cell_type": "code",
      "source": [
        "name = 'Edu'\n",
        "print(name)\n",
        "age = '22'\n",
        "print(age)\n",
        "\n",
        "total = int(age) + 10\n",
        "template = f\"Hola mi nombre es {name}, tengo {age} años y en 10 años tendré {total} años\"\n",
        "print(template)"
      ],
      "metadata": {
        "colab": {
          "base_uri": "https://localhost:8080/"
        },
        "id": "_NMC4MKs2_WJ",
        "outputId": "909949b2-5f09-48bf-992d-4a5ee9289bc7"
      },
      "execution_count": null,
      "outputs": [
        {
          "output_type": "stream",
          "name": "stdout",
          "text": [
            "Edu\n",
            "22\n",
            "Hola mi nombre es Edu, tengo 22 años y en 10 años tendré 32 años\n"
          ]
        }
      ]
    },
    {
      "cell_type": "markdown",
      "source": [
        "## OPERACIONES ARITMÉTICAS"
      ],
      "metadata": {
        "id": "UNaatkWyyiGK"
      }
    },
    {
      "cell_type": "code",
      "source": [
        "print( 10 + 10)\n",
        "print( 10 - 102)\n",
        "print( 10 * 10)\n",
        "print(2 ** 3)\n",
        "print(10 // 3)\n",
        "print(10 / 3)\n",
        "print(10 % 3)"
      ],
      "metadata": {
        "colab": {
          "base_uri": "https://localhost:8080/"
        },
        "id": "LCzl0_9pymaK",
        "outputId": "02ae3c15-28da-4dca-832b-872a9c3aedff"
      },
      "execution_count": null,
      "outputs": [
        {
          "output_type": "stream",
          "name": "stdout",
          "text": [
            "20\n",
            "8\n",
            "3\n",
            "3.3333333333333335\n",
            "1\n"
          ]
        }
      ]
    },
    {
      "cell_type": "markdown",
      "source": [
        "## OPERADORES DE COMPARACIÓN"
      ],
      "metadata": {
        "id": "BxDw78LB9yqy"
      }
    },
    {
      "cell_type": "markdown",
      "source": [
        "### COMPARANDO NUM ENTEROS (INT)"
      ],
      "metadata": {
        "id": "2AEBFtKBCNBc"
      }
    },
    {
      "cell_type": "code",
      "source": [
        "# > mayor que\n",
        "print(7 > 3)\n",
        "print(3 > 7)\n",
        "\n",
        "# >= mayor o igual que\n",
        "print(7 >= 3)\n",
        "print(7 >= 7)\n",
        "\n",
        "# < menor que\n",
        "print(5 < 3)\n",
        "print(3 < 5)\n",
        "\n",
        "# < menor o igual que\n",
        "print(5 <= 3)\n",
        "print(3 <= 3)\n",
        "\n",
        "# ==  igualdad\n",
        "print(6 == 6)\n",
        "print(5 == 7)\n",
        "\n",
        "# != diferente de\n",
        "print(5 != 3)\n",
        "print(5 != 5)\n",
        "\n",
        "\n",
        "print(\"Apple\" == \"apple\")\n",
        "print('1'== 1)\n",
        "\n",
        "age = 22\n",
        "print(age >= 18)\n"
      ],
      "metadata": {
        "colab": {
          "base_uri": "https://localhost:8080/"
        },
        "id": "9bO45cOv97tZ",
        "outputId": "62df5651-246d-4346-eb08-3441bce0750c"
      },
      "execution_count": null,
      "outputs": [
        {
          "output_type": "stream",
          "name": "stdout",
          "text": [
            "True\n",
            "False\n",
            "True\n",
            "True\n",
            "False\n",
            "True\n",
            "False\n",
            "True\n",
            "True\n",
            "False\n",
            "True\n",
            "False\n",
            "False\n",
            "False\n",
            "True\n"
          ]
        }
      ]
    },
    {
      "cell_type": "markdown",
      "source": [
        "### COMPARANDO NUM FLOAT"
      ],
      "metadata": {
        "id": "NBN_5UupCUjS"
      }
    },
    {
      "cell_type": "markdown",
      "source": [
        "Python utiliza la IEEE 754-2008 para la representación de números de punto flotante, que es la norma internacional para la representación y el cálculo de números de punto flotante.  Sin embargo, esta norma tiene sus limitaciones y, por lo tanto, python también tiene limitaciones en la representación y el cálculo de números de punto flotante.\n",
        "\n",
        "Una de las limitaciones principales de la IEEE 754-2008 es que sólo permite representar un número finito de dígitos decimales. Esto significa que, en algunos casos, los números de punto flotante no se pueden representar de forma exacta y se producen errores de redondeo o truncamiento. Estos errores pueden ser pequeños y pueden no tener un impacto significativo en el cálculo, pero en algunos casos pueden ser muy grandes y afectar significativamente al resultado final."
      ],
      "metadata": {
        "id": "ZGu9zoEqFGLb"
      }
    },
    {
      "cell_type": "code",
      "source": [
        "X = 3.3\n",
        "print(f'Es es el valor de x=',X)\n",
        "\n",
        "# Se hace el redondeo\n",
        "y= round(1.1 + 2.2,1)\n",
        "print(f'Es es el valor de y antes del redondeo=', y)\n",
        "print(f'Este es el redondeo de y=',y)\n",
        "\n",
        "print(y == X)"
      ],
      "metadata": {
        "colab": {
          "base_uri": "https://localhost:8080/"
        },
        "id": "kYWn5wVQCYuq",
        "outputId": "86abb995-77b4-49be-c339-9312cfea0dfe"
      },
      "execution_count": null,
      "outputs": [
        {
          "output_type": "stream",
          "name": "stdout",
          "text": [
            "Es es el valor de x= 3.3\n",
            "Es es el valor de y antes del redondeo= 3.3\n",
            "Este es el redondeo de y= 3.3\n",
            "True\n"
          ]
        }
      ]
    },
    {
      "cell_type": "markdown",
      "source": [
        "## OPERADORES LÓGICOS and , or y not"
      ],
      "metadata": {
        "id": "YmCPKiYVFbO4"
      }
    },
    {
      "cell_type": "markdown",
      "source": [
        "### AND y OR"
      ],
      "metadata": {
        "id": "jjOoCBEIFnW6"
      }
    },
    {
      "cell_type": "code",
      "source": [
        "# AND\n",
        "# SI ALGUNA DE LAS OPCIONES ES FALSE, EL RESULTADO SERÁ FALSE\n",
        "stock = int(input(\"Ingresa el num de stock: \"))\n",
        "# REGLA DE NEGOCIO\n",
        "print(stock >=100 and stock <= 1000)\n",
        "\n",
        "\n",
        "#OR\n",
        "# SI ALGUNA DE LAS DOS OPCIONES ES TRUE, EL RESULTADO SERÁ TRUE\n",
        "\n",
        "role = input(\"Digita el rol:\")\n",
        "\n",
        "print(role == \"admin\" or role == \"seller\")"
      ],
      "metadata": {
        "colab": {
          "base_uri": "https://localhost:8080/"
        },
        "id": "wt1muHn4FdeY",
        "outputId": "62ed46ff-b014-44e2-af07-86111b4fe66d"
      },
      "execution_count": null,
      "outputs": [
        {
          "output_type": "stream",
          "name": "stdout",
          "text": [
            "Ingresa el num de stock: 99\n",
            "False\n",
            "Digita el rol:admin\n",
            "True\n"
          ]
        }
      ]
    },
    {
      "cell_type": "markdown",
      "source": [
        "### NOT"
      ],
      "metadata": {
        "id": "OJA3nT0WKP25"
      }
    },
    {
      "cell_type": "code",
      "source": [
        "# NOT\n",
        "# NEGAR CUALQUIERA DE LAS OPERACIONES BOOLEANAS\n",
        "# EN CIERTO RANGO DE NUMERO NO ACEPTA VALOR\n",
        "\n",
        "stock = int(input(\"Ingresa el num de stock: \"))\n",
        "# REGLA DE NEGOCIO\n",
        "print(not(stock >=100 and stock <= 1000))\n",
        "\n"
      ],
      "metadata": {
        "colab": {
          "base_uri": "https://localhost:8080/"
        },
        "id": "ogy2QUXNKTDc",
        "outputId": "390064ea-3560-4ab5-a188-eb49229ca2fe"
      },
      "execution_count": null,
      "outputs": [
        {
          "output_type": "stream",
          "name": "stdout",
          "text": [
            "Ingresa el num de stock: 99\n",
            "True\n"
          ]
        }
      ]
    },
    {
      "cell_type": "markdown",
      "source": [
        "## CONDICIONALES"
      ],
      "metadata": {
        "id": "iG_KvXqmMqRP"
      }
    },
    {
      "cell_type": "code",
      "source": [
        "'''\n",
        "pet = input(\"Cuál es tu mascota favorita?\")\n",
        "if pet == 'perro':\n",
        "    print('Yo también amo los perros!!')\n",
        "if pet == 'gato':\n",
        "    print('chin')\n",
        "\n",
        "'''\n",
        "\n",
        "'''\n",
        "\n",
        "stock = int(input(\"Digita el stock: \"))\n",
        "if stock >= 100 and stock <= 1000:\n",
        "    print(\"El stock es correcto\")\n",
        "else:\n",
        "    print(\"El stock es incorrecto\")\n",
        "\n",
        "'''\n",
        "# elif No prueba las condiciones restantes, lo que puede\n",
        "# hacer que tu código sea más eficiente en términos\n",
        "# de tiempo de ejecución\n",
        "\n",
        "pet = input(\"Cuál es tu mascota favorita? \")\n",
        "if pet == 'perro':\n",
        "    print('Yo también amo los perros!!')\n",
        "elif pet == 'gato':\n",
        "    print('chin')\n",
        "elif pet == 'pez':\n",
        "    print('felicitaciones')\n",
        "else:\n",
        "    print('intenta de new')\n",
        "\n",
        "\n",
        "# ejercicio\n",
        "# evalua si un numero es par o impar\n",
        "\n",
        "num = int(input(\"Ingresa el número\"))\n",
        "\n",
        "if num % 2 == 0:\n",
        "    print(\"Es un número par\")\n",
        "else:\n",
        "    print(\"Es un número impar\")"
      ],
      "metadata": {
        "colab": {
          "base_uri": "https://localhost:8080/"
        },
        "id": "S_glkj2aMtXD",
        "outputId": "084e430b-0b56-4f7c-b69e-866fc0cfb600"
      },
      "execution_count": null,
      "outputs": [
        {
          "output_type": "stream",
          "name": "stdout",
          "text": [
            "Cuál es tu mascota favorita? perro\n",
            "Yo también amo los perros!!\n",
            "Ingresa el número9\n",
            "Es un número impar\n"
          ]
        }
      ]
    },
    {
      "cell_type": "markdown",
      "source": [
        "JUEGO DE PIEDRA, PAPEL O TIJERA"
      ],
      "metadata": {
        "id": "Wp2YhkISSaps"
      }
    },
    {
      "cell_type": "code",
      "source": [
        "user_option = input('piedra,papel o tijera: ')\n",
        "computer_option= 'papel'\n",
        "\n",
        "if user_option == computer_option:\n",
        "    print('empate')\n",
        "elif user_option == 'piedra':\n",
        "    if computer_option == 'tijera':\n",
        "     print('piedra gana a tijera')\n",
        "     print('user gana!')\n",
        "    else:\n",
        "        print('papel gana a piedra')\n",
        "        print('computer ganó')\n",
        "elif user_option == 'papel':\n",
        "    if computer_option == 'piedra':\n",
        "     print('Papel gana a piedra')\n",
        "     print('user gana')\n",
        "    else:\n",
        "        print('tijera gana a papel')\n",
        "        print('computer gana')\n",
        "elif user_option == 'tijera':\n",
        "    if computer_option == 'papel':\n",
        "     print('tijera gana a papel')\n",
        "     print('user gana')\n",
        "    else:\n",
        "        print('piedra gana a tijera')\n",
        "        print('computer gana')"
      ],
      "metadata": {
        "colab": {
          "base_uri": "https://localhost:8080/"
        },
        "id": "i0oYDUpiSaTD",
        "outputId": "cd6692d7-1d08-493a-e87c-aac12bf0f202"
      },
      "execution_count": null,
      "outputs": [
        {
          "output_type": "stream",
          "name": "stdout",
          "text": [
            "piedra,papel o tijera: tijera\n",
            "tijera gana a papel\n",
            "user gana\n"
          ]
        }
      ]
    },
    {
      "cell_type": "markdown",
      "source": [
        "PAR O IMPAR"
      ],
      "metadata": {
        "id": "d73eUNw8ZQYw"
      }
    },
    {
      "cell_type": "code",
      "source": [
        "number = '10'\n",
        "print(number)\n",
        "\n",
        "# Escribe tu solución 👇\n",
        "if int(number) % 2 == 0:\n",
        "  print(\"Es par\")\n",
        "else:\n",
        "  print(\"Es impar\")"
      ],
      "metadata": {
        "colab": {
          "base_uri": "https://localhost:8080/"
        },
        "id": "hKRBB6FRZPla",
        "outputId": "7bcd1f1c-1576-4b3d-f6e6-260abb9138c6"
      },
      "execution_count": null,
      "outputs": [
        {
          "output_type": "stream",
          "name": "stdout",
          "text": [
            "10\n",
            "Es par\n"
          ]
        }
      ]
    },
    {
      "cell_type": "code",
      "source": [],
      "metadata": {
        "id": "_du_O214xNat"
      },
      "execution_count": null,
      "outputs": []
    },
    {
      "cell_type": "markdown",
      "source": [
        "## LISTAS"
      ],
      "metadata": {
        "id": "coT0y2_rxP6E"
      }
    },
    {
      "cell_type": "markdown",
      "source": [
        "A list can contain any Python type. Although it's not really common, a list can also contain a mix of Python types including strings, floats, booleans, etc."
      ],
      "metadata": {
        "id": "qi-qj_ks84ne"
      }
    },
    {
      "cell_type": "code",
      "source": [
        "# area variables (in square meters)\n",
        "hall = 11.25\n",
        "kit = 18.0\n",
        "liv = 20.0\n",
        "bed = 10.75\n",
        "bath = 9.50\n",
        "\n",
        "# list areas\n",
        "areas = [hall, kit, liv, bed, bath]\n",
        "\n",
        "# Print areas\n",
        "print(areas)"
      ],
      "metadata": {
        "colab": {
          "base_uri": "https://localhost:8080/"
        },
        "id": "wbCGhE7C3jdh",
        "outputId": "10d6e71f-e4fd-49c1-bb39-e9ccd909653b"
      },
      "execution_count": null,
      "outputs": [
        {
          "output_type": "stream",
          "name": "stdout",
          "text": [
            "[11.25, 18.0, 20.0, 10.75, 9.5]\n"
          ]
        }
      ]
    },
    {
      "cell_type": "code",
      "source": [
        "# area variables (in square meters)\n",
        "hall = 11.25\n",
        "kit = 18.0\n",
        "liv = 20.0\n",
        "bed = 10.75\n",
        "bath = 9.50\n",
        "\n",
        "# Combine data types (string + float)\n",
        "areas = [\"hallway\" ,hall, \"kitchen\", kit, \"living room\", liv, \"bedroom\",bed, \"bathroom\", bath]\n",
        "\n",
        "# Print areas\n",
        "print(areas)"
      ],
      "metadata": {
        "colab": {
          "base_uri": "https://localhost:8080/"
        },
        "id": "kbiauUxn9UfD",
        "outputId": "2c14e347-19d0-40de-8a80-2a70cd93fe36"
      },
      "execution_count": null,
      "outputs": [
        {
          "output_type": "stream",
          "name": "stdout",
          "text": [
            "['hallway', 11.25, 'kitchen', 18.0, 'living room', 20.0, 'bedroom', 10.75, 'bathroom', 9.5]\n"
          ]
        }
      ]
    },
    {
      "cell_type": "markdown",
      "source": [
        "***List of lists***"
      ],
      "metadata": {
        "id": "bUZSu5QP_J1m"
      }
    },
    {
      "cell_type": "markdown",
      "source": [
        "Subset and conquer\n",
        "\n",
        "Subsetting Python lists is a piece of cake. Take the code sample below, which creates a list x and then selects \"b\" from it. Remember that this is the second element, so it has index 1. You can also use negative indexing."
      ],
      "metadata": {
        "id": "wKgaS7H8BwKq"
      }
    },
    {
      "cell_type": "code",
      "source": [
        "x = [\"a\", \"b\", \"c\", \"d\"]\n",
        "x[1]\n",
        "x[-3] # same result!"
      ],
      "metadata": {
        "colab": {
          "base_uri": "https://localhost:8080/",
          "height": 36
        },
        "id": "JBsJiUpcB1oI",
        "outputId": "9f85d2a8-4bdb-4bee-b4d6-147147aa9441"
      },
      "execution_count": null,
      "outputs": [
        {
          "output_type": "execute_result",
          "data": {
            "text/plain": [
              "'b'"
            ],
            "application/vnd.google.colaboratory.intrinsic+json": {
              "type": "string"
            }
          },
          "metadata": {},
          "execution_count": 11
        }
      ]
    },
    {
      "cell_type": "code",
      "source": [
        "# area variables (in square meters)\n",
        "hall = 11.25\n",
        "kit = 18.0\n",
        "liv = 20.0\n",
        "bed = 10.75\n",
        "bath = 9.50\n",
        "\n",
        "# house information as list of lists\n",
        "house = [[\"hallway\", hall],\n",
        "         [\"kitchen\", kit],\n",
        "         [\"living room\", liv],\n",
        "         [\"bedroom\" , bed],\n",
        "         [\"bathroom\", bath]]\n",
        "\n",
        "# Print out house\n",
        "print(house)\n",
        "\n",
        "# Print out the type of house\n",
        "print(type(house))\n",
        "house[-1][1]"
      ],
      "metadata": {
        "colab": {
          "base_uri": "https://localhost:8080/"
        },
        "id": "s6zxoAFl_H5w",
        "outputId": "e9098dbd-e302-46cd-ec54-90a96ce5214a"
      },
      "execution_count": null,
      "outputs": [
        {
          "output_type": "stream",
          "name": "stdout",
          "text": [
            "[['hallway', 11.25], ['kitchen', 18.0], ['living room', 20.0], ['bedroom', 10.75], ['bathroom', 9.5]]\n",
            "<class 'list'>\n"
          ]
        },
        {
          "output_type": "execute_result",
          "data": {
            "text/plain": [
              "9.5"
            ]
          },
          "metadata": {},
          "execution_count": 15
        }
      ]
    },
    {
      "cell_type": "code",
      "source": [
        "# select data on a list\n",
        "hall = 11.25\n",
        "kit = 18.0\n",
        "liv = 20.0\n",
        "bed = 10.75\n",
        "bath = 9.50\n",
        "\n",
        "# index star on 0\n",
        "areas = [hall, kit, liv, bed, bath]\n",
        "\n",
        "print(areas[2])\n",
        "\n",
        "\n",
        "# list slicing\n",
        "# [start:end]\n",
        "\n",
        "areas = [hall, kit, liv, bed, bath]\n",
        "print(areas[2:4])\n",
        "print(areas[:3]) #starts with index 0 to 3\n",
        "print(areas[1:]) #starts with index 1 to finish the list"
      ],
      "metadata": {
        "colab": {
          "base_uri": "https://localhost:8080/"
        },
        "id": "HGrGtAX3AE-a",
        "outputId": "bbdb4d20-ac56-4708-9f8e-536da1128150"
      },
      "execution_count": null,
      "outputs": [
        {
          "output_type": "stream",
          "name": "stdout",
          "text": [
            "20.0\n",
            "[20.0, 10.75]\n",
            "[11.25, 18.0, 20.0]\n",
            "[18.0, 20.0, 10.75, 9.5]\n"
          ]
        }
      ]
    },
    {
      "cell_type": "code",
      "source": [
        "# Create the areas list\n",
        "areas = [\"hallway\", 11.25, \"kitchen\", 18.0, \"living room\", 20.0, \"bedroom\", 10.75, \"bathroom\", 9.50]\n",
        "\n",
        "# Print out second element from areas\n",
        "print(areas[1])\n",
        "\n",
        "# Print out last element from areas\n",
        "print(areas[-1])\n",
        "\n",
        "# Print out the area of the living room\n",
        "print(areas[5])"
      ],
      "metadata": {
        "colab": {
          "base_uri": "https://localhost:8080/"
        },
        "id": "JNgewF_qCQmR",
        "outputId": "2213184c-952e-429c-fe17-7e7ec3e06e95"
      },
      "execution_count": null,
      "outputs": [
        {
          "output_type": "stream",
          "name": "stdout",
          "text": [
            "11.25\n",
            "9.5\n",
            "20.0\n"
          ]
        }
      ]
    },
    {
      "cell_type": "markdown",
      "source": [
        "Subset and calculate\n",
        "After you've extracted values from a list, you can use them to perform additional calculations. Take this example, where the second and fourth element of a list x are extracted. The strings that result are pasted together using the + operator:\n",
        "\n",
        "x = [\"a\", \"b\", \"c\", \"d\"]\n",
        "print(x[1] + x[3])"
      ],
      "metadata": {
        "id": "-mMkX-YiC63T"
      }
    },
    {
      "cell_type": "code",
      "source": [
        "# Create the areas list\n",
        "areas = [\"hallway\", 11.25, \"kitchen\", 18.0, \"living room\", 20.0, \"bedroom\", 10.75, \"bathroom\", 9.50]\n",
        "\n",
        "# Sum of kitchen and bedroom area: eat_sleep_area\n",
        "eat_sleep_area = areas[3] + areas[7]\n",
        "\n",
        "# Print the variable eat_sleep_area\n",
        "print(eat_sleep_area)\n"
      ],
      "metadata": {
        "colab": {
          "base_uri": "https://localhost:8080/"
        },
        "id": "DDDMbP9hC4VL",
        "outputId": "0453d27d-b69f-45f9-f684-e43cf76a0e40"
      },
      "execution_count": null,
      "outputs": [
        {
          "output_type": "stream",
          "name": "stdout",
          "text": [
            "28.75\n"
          ]
        }
      ]
    },
    {
      "cell_type": "code",
      "source": [
        "# Create the areas list\n",
        "areas = [\"hallway\", 11.25, \"kitchen\", 18.0, \"living room\", 20.0, \"bedroom\", 10.75, \"bathroom\", 9.50]\n",
        "\n",
        "# Use slicing to create downstairs\n",
        "downstairs = areas[:6]\n",
        "\n",
        "# Use slicing to create upstairs\n",
        "upstairs = areas[-4:]\n",
        "\n",
        "# Print out downstairs and upstairs\n",
        "print(downstairs)\n",
        "print(upstairs)"
      ],
      "metadata": {
        "colab": {
          "base_uri": "https://localhost:8080/"
        },
        "id": "FWG0sVDiEPR3",
        "outputId": "683687c7-1892-44a0-fbb1-5f0a169ed526"
      },
      "execution_count": null,
      "outputs": [
        {
          "output_type": "stream",
          "name": "stdout",
          "text": [
            "['hallway', 11.25, 'kitchen', 18.0, 'living room', 20.0]\n",
            "['bedroom', 10.75, 'bathroom', 9.5]\n"
          ]
        }
      ]
    },
    {
      "cell_type": "markdown",
      "source": [
        "### Manipulación de listas\n",
        "\n"
      ],
      "metadata": {
        "id": "hVKtGMgsHm1_"
      }
    },
    {
      "cell_type": "code",
      "source": [
        "# cambiar elementos\n",
        "fam = [\"Liz\", 1.73, \"Emma\", 1.68, \"Mom\", 1.71, \"Dad\", 1.89]\n",
        "fam[7] = 1.86\n",
        "print(fam[7])\n",
        "\n",
        "# agregar elementos\n",
        "fam = [\"Liz\", 1.73, \"Emma\", 1.68, \"Mom\", 1.71, \"Dad\", 1.89]\n",
        "fam = fam +  [\"Edu\", 1.74]\n",
        "print(fam)\n",
        "# otra forma de agregar elementos\n",
        "fam.extend([\"Carlos\",1.72])\n",
        "print(fam)\n",
        "\n",
        "# remover elementos\n",
        "del(fam[2:4])\n",
        "print(fam)\n"
      ],
      "metadata": {
        "colab": {
          "base_uri": "https://localhost:8080/"
        },
        "id": "9Dmw_LP9Hrkt",
        "outputId": "5e4fda73-f669-4936-bdaa-449ce8a98684"
      },
      "execution_count": null,
      "outputs": [
        {
          "output_type": "stream",
          "name": "stdout",
          "text": [
            "1.86\n",
            "['Liz', 1.73, 'Emma', 1.68, 'Mom', 1.71, 'Dad', 1.89, 'Edu', 1.74]\n",
            "['Liz', 1.73, 'Emma', 1.68, 'Mom', 1.71, 'Dad', 1.89, 'Edu', 1.74, 'Carlos', 1.72]\n",
            "['Liz', 1.73, 'Mom', 1.71, 'Dad', 1.89, 'Edu', 1.74, 'Carlos', 1.72]\n"
          ]
        }
      ]
    },
    {
      "cell_type": "code",
      "source": [
        "areas = [\"hallway\", 11.25, \"kitchen\", 18.0,\n",
        "        \"chill zone\", 20.0, \"bedroom\", 10.75,\n",
        "         \"bathroom\", 10.50, \"poolhouse\", 24.5,\n",
        "         \"garage\", 15.45]\n",
        "print(areas)\n",
        "del(areas[-4:-2])\n",
        "print(areas)"
      ],
      "metadata": {
        "colab": {
          "base_uri": "https://localhost:8080/"
        },
        "id": "lyz64ZtaQOAE",
        "outputId": "bdffd924-8ad5-4f0c-9aef-09004478abab"
      },
      "execution_count": null,
      "outputs": [
        {
          "output_type": "stream",
          "name": "stdout",
          "text": [
            "['hallway', 11.25, 'kitchen', 18.0, 'chill zone', 20.0, 'bedroom', 10.75, 'bathroom', 10.5, 'poolhouse', 24.5, 'garage', 15.45]\n",
            "['hallway', 11.25, 'kitchen', 18.0, 'chill zone', 20.0, 'bedroom', 10.75, 'bathroom', 10.5, 'garage', 15.45]\n"
          ]
        }
      ]
    },
    {
      "cell_type": "markdown",
      "source": [
        "## FUNCIONES"
      ],
      "metadata": {
        "id": "kuG5ukDVdx3z"
      }
    },
    {
      "cell_type": "markdown",
      "source": [
        "Pieza de código retulizable para resolver una tarea en específico\n",
        "\n",
        "Se pueden mandar a llamar en lugar de volver a escribir el código otra vez."
      ],
      "metadata": {
        "id": "MrX9OK7veHTk"
      }
    },
    {
      "cell_type": "code",
      "source": [
        "help(round)"
      ],
      "metadata": {
        "colab": {
          "base_uri": "https://localhost:8080/"
        },
        "id": "Wzz-A7kaiAK7",
        "outputId": "73201afa-e961-4578-fae8-c10c0e6cb924"
      },
      "execution_count": null,
      "outputs": [
        {
          "output_type": "stream",
          "name": "stdout",
          "text": [
            "Help on built-in function round in module builtins:\n",
            "\n",
            "round(number, ndigits=None)\n",
            "    Round a number to a given precision in decimal digits.\n",
            "    \n",
            "    The return value is an integer if ndigits is omitted or None.  Otherwise\n",
            "    the return value has the same type as the number.  ndigits may be negative.\n",
            "\n"
          ]
        }
      ]
    },
    {
      "cell_type": "code",
      "source": [
        "fam = [ 1.73, 1.68, 1.71, 1.89]\n",
        "tallest = max(fam)\n",
        "fam.extend([1.99])\n",
        "print(fam[-2])\n",
        "print(tallest)\n",
        "print(fam)\n",
        "# redondeo  round(num,ndigitos)\n",
        "redondeo = round(fam[-1],1)\n",
        "print(f\"El redondeo de la última estatura es:{redondeo}\")"
      ],
      "metadata": {
        "colab": {
          "base_uri": "https://localhost:8080/"
        },
        "id": "ljJOPRaod_HQ",
        "outputId": "9f0a6d75-e93c-4b29-9091-732b5961b39a"
      },
      "execution_count": null,
      "outputs": [
        {
          "output_type": "stream",
          "name": "stdout",
          "text": [
            "1.89\n",
            "1.89\n",
            "[1.73, 1.68, 1.71, 1.89, 1.99]\n",
            "El redondeo de la última estatura es:2.0\n"
          ]
        }
      ]
    },
    {
      "cell_type": "code",
      "source": [
        "help(len)"
      ],
      "metadata": {
        "colab": {
          "base_uri": "https://localhost:8080/"
        },
        "id": "PKMYKd1BjZFY",
        "outputId": "eed6f8b1-7675-4e07-9cde-ebccac85a704"
      },
      "execution_count": null,
      "outputs": [
        {
          "output_type": "stream",
          "name": "stdout",
          "text": [
            "Help on built-in function len in module builtins:\n",
            "\n",
            "len(obj, /)\n",
            "    Return the number of items in a container.\n",
            "\n"
          ]
        }
      ]
    },
    {
      "cell_type": "code",
      "source": [
        "# numero total de elementos dentro de una lista\n",
        "print(len(fam))"
      ],
      "metadata": {
        "colab": {
          "base_uri": "https://localhost:8080/"
        },
        "id": "VE5wG7f1jc7L",
        "outputId": "3cb7c5b7-31d8-4c90-b512-5221b506d75a"
      },
      "execution_count": null,
      "outputs": [
        {
          "output_type": "stream",
          "name": "stdout",
          "text": [
            "5\n"
          ]
        }
      ]
    },
    {
      "cell_type": "code",
      "source": [
        "# eleva número a la n potencia\n",
        "help(pow)\n",
        "pow(5,2)"
      ],
      "metadata": {
        "colab": {
          "base_uri": "https://localhost:8080/"
        },
        "id": "WiCwqjGGkZbW",
        "outputId": "ba8ee6cb-8c4f-4fbc-c1d1-699ab839544e"
      },
      "execution_count": null,
      "outputs": [
        {
          "output_type": "stream",
          "name": "stdout",
          "text": [
            "Help on built-in function pow in module builtins:\n",
            "\n",
            "pow(base, exp, mod=None)\n",
            "    Equivalent to base**exp with 2 arguments or base**exp % mod with 3 arguments\n",
            "    \n",
            "    Some types, such as ints, are able to use a more efficient algorithm when\n",
            "    invoked using the three argument form.\n",
            "\n"
          ]
        },
        {
          "output_type": "execute_result",
          "data": {
            "text/plain": [
              "25"
            ]
          },
          "metadata": {},
          "execution_count": 19
        }
      ]
    },
    {
      "cell_type": "markdown",
      "source": [
        "**sorted()**\n",
        "\n",
        "función devuelve una lista ordenada del objeto iterable especificado.\n",
        "\n",
        "Puede especificar un orden ascendente o descendente. Las cadenas se ordenan alfabéticamente y los números se ordenan numéricamente.\n",
        "\n",
        "**Nota: No puede ordenar una lista que contiene AMBOS valores de cadena Y valores numéricos.**"
      ],
      "metadata": {
        "id": "-cIL2FIvpM6H"
      }
    },
    {
      "cell_type": "code",
      "source": [
        "help(sorted)"
      ],
      "metadata": {
        "colab": {
          "base_uri": "https://localhost:8080/"
        },
        "id": "TeOTmY1to49d",
        "outputId": "8c9572aa-7f2b-4955-9129-827596012703"
      },
      "execution_count": null,
      "outputs": [
        {
          "output_type": "stream",
          "name": "stdout",
          "text": [
            "Help on built-in function sorted in module builtins:\n",
            "\n",
            "sorted(iterable, /, *, key=None, reverse=False)\n",
            "    Return a new list containing all items from the iterable in ascending order.\n",
            "    \n",
            "    A custom key function can be supplied to customize the sort order, and the\n",
            "    reverse flag can be set to request the result in descending order.\n",
            "\n"
          ]
        }
      ]
    },
    {
      "cell_type": "code",
      "source": [
        "# Create lists first and second\n",
        "first = [11.25, 18.0, 20.0]\n",
        "second = [10.75, 9.50]\n",
        "\n",
        "# Paste together first and second: full\n",
        "full = first + second\n",
        "\n",
        "# Sort full in descending order: full_sorted\n",
        "full_sorted= sorted(full, reverse = True)\n",
        "\n",
        "# Print out full_sorted\n",
        "print(full_sorted)"
      ],
      "metadata": {
        "colab": {
          "base_uri": "https://localhost:8080/"
        },
        "id": "ozzZjf9Mo-gL",
        "outputId": "12711e67-99a2-4e7f-ebc4-48a14d8d22fe"
      },
      "execution_count": null,
      "outputs": [
        {
          "output_type": "stream",
          "name": "stdout",
          "text": [
            "[20.0, 18.0, 11.25, 10.75, 9.5]\n"
          ]
        }
      ]
    },
    {
      "cell_type": "markdown",
      "source": [
        "## Métodos"
      ],
      "metadata": {
        "id": "4wVmD64Zp4Dn"
      }
    },
    {
      "cell_type": "markdown",
      "source": [
        "Todo lo anteriormente visto son objetos (listas, flotantes, integers, strings etc.)\n",
        "\n",
        "**TODO ES UN OBJETO Y C/ OBJETO TIENE MÉTODOS ESPECÍFICOS ASOSCIADOS**\n",
        "\n",
        "Pero estos objetos cuentan con algo llamado **metodos**, podemos ver a los metodos como funciones que pertenecen a estos objetos.\n",
        "\n",
        "![Imagen de WhatsApp 2023-07-23 a las 01.39.50.jpg](data:image/jpeg;base64,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)"
      ],
      "metadata": {
        "id": "mm2YfMsEp7UV"
      }
    },
    {
      "cell_type": "markdown",
      "source": [
        "### **LIST METHODS**"
      ],
      "metadata": {
        "id": "D3amCe_2uCRf"
      }
    },
    {
      "cell_type": "code",
      "source": [
        "# index\n",
        "# es usado para que te diga qué indice tiene el elemento que estás\n",
        "# señalando o seleccionando\n",
        "# SE PUEDE USAR EN STRINGS Y LIST\n",
        "\n",
        "family = [\"Liz\", 1.73, \"Emma\", 1.68, \"Mom\", 1.71, \"Dad\", 1.89]\n",
        "print(family.index(\"Mom\"))"
      ],
      "metadata": {
        "colab": {
          "base_uri": "https://localhost:8080/"
        },
        "id": "9s78vb6Vs9pW",
        "outputId": "c81cd430-6bfb-41b3-eb94-9c5d62a9dd52"
      },
      "execution_count": null,
      "outputs": [
        {
          "output_type": "stream",
          "name": "stdout",
          "text": [
            "4\n"
          ]
        }
      ]
    },
    {
      "cell_type": "code",
      "source": [
        "# count\n",
        "# cuenta el número de veces que esta repetido cierto elemento\n",
        "\n",
        "family.count(1.73)"
      ],
      "metadata": {
        "colab": {
          "base_uri": "https://localhost:8080/"
        },
        "id": "x-Dgcf20trNt",
        "outputId": "71bbe499-68c4-4b4c-a3bb-f16dcaee1596"
      },
      "execution_count": null,
      "outputs": [
        {
          "output_type": "execute_result",
          "data": {
            "text/plain": [
              "1"
            ]
          },
          "metadata": {},
          "execution_count": 25
        }
      ]
    },
    {
      "cell_type": "markdown",
      "source": [
        "### **STR METHODS**"
      ],
      "metadata": {
        "id": "Nh6JoqKZuPDz"
      }
    },
    {
      "cell_type": "code",
      "source": [
        "# capitalize\n",
        "# devuelve el string con la primera letra en mayuscula\n",
        "\n",
        "sister = \"liz\"\n",
        "sister.capitalize()"
      ],
      "metadata": {
        "colab": {
          "base_uri": "https://localhost:8080/",
          "height": 36
        },
        "id": "d89awsIBuUKZ",
        "outputId": "e3808826-048c-4e5a-f2da-866f1c5ed5fb"
      },
      "execution_count": null,
      "outputs": [
        {
          "output_type": "execute_result",
          "data": {
            "text/plain": [
              "'Liz'"
            ],
            "application/vnd.google.colaboratory.intrinsic+json": {
              "type": "string"
            }
          },
          "metadata": {},
          "execution_count": 26
        }
      ]
    },
    {
      "cell_type": "code",
      "source": [
        "# replace\n",
        "# reemplaza\n",
        "\n",
        "sister.replace(\"z\", \"sa\")"
      ],
      "metadata": {
        "colab": {
          "base_uri": "https://localhost:8080/",
          "height": 36
        },
        "id": "GufJOQT7u28V",
        "outputId": "b7b5965b-27c7-4e32-ae7e-fbf77e646915"
      },
      "execution_count": null,
      "outputs": [
        {
          "output_type": "execute_result",
          "data": {
            "text/plain": [
              "'lisa'"
            ],
            "application/vnd.google.colaboratory.intrinsic+json": {
              "type": "string"
            }
          },
          "metadata": {},
          "execution_count": 27
        }
      ]
    },
    {
      "cell_type": "code",
      "source": [
        "# mandará error, 'list' object has no attribute 'replace'\n",
        "# family.replace(\"mom\",\"mommy\")"
      ],
      "metadata": {
        "id": "99oaatH6vb5P"
      },
      "execution_count": null,
      "outputs": []
    },
    {
      "cell_type": "code",
      "source": [
        "# extend si puede agregar más de 1 elemento\n",
        "family.extend([\"Martha\",1.80])\n",
        "# del(family[12:14])\n",
        "# print(len(family))\n",
        "print(family)\n",
        "\n",
        "# append = puede agregar 1 solo elemento\n",
        "family.append(\"Claudia\")\n",
        "print(family)"
      ],
      "metadata": {
        "colab": {
          "base_uri": "https://localhost:8080/"
        },
        "id": "g1WrTDrXwQt5",
        "outputId": "9349c1f0-5cbc-4b65-90e8-8861798d5eb4"
      },
      "execution_count": null,
      "outputs": [
        {
          "output_type": "stream",
          "name": "stdout",
          "text": [
            "['Liz', 1.73, 'Emma', 1.68, 'Mom', 1.71, 'Dad', 1.89, 'me', 1.74, 'Carlos', 1.8, 'Martha', 1.8]\n",
            "['Liz', 1.73, 'Emma', 1.68, 'Mom', 1.71, 'Dad', 1.89, 'me', 1.74, 'Carlos', 1.8, 'Martha', 1.8, 'Claudia']\n"
          ]
        }
      ]
    },
    {
      "cell_type": "markdown",
      "source": [
        "### EJERCICIOS"
      ],
      "metadata": {
        "id": "BPCt1VU_28Qj"
      }
    },
    {
      "cell_type": "code",
      "source": [
        "# string to experiment with: place\n",
        "place = \"poolhouse\"\n",
        "\n",
        "# Use upper() on place: place_up\n",
        "place_up= place.upper()\n",
        "\n",
        "# Print out place and place_up\n",
        "print(place_up)\n",
        "print(place)\n",
        "\n",
        "# Print out the number of o's in place\n",
        "print(place.count(\"o\"))\n"
      ],
      "metadata": {
        "colab": {
          "base_uri": "https://localhost:8080/"
        },
        "id": "9aT8KV5N16aI",
        "outputId": "b50f74d7-a6c2-4d6a-9fd5-26ed54801e96"
      },
      "execution_count": null,
      "outputs": [
        {
          "output_type": "stream",
          "name": "stdout",
          "text": [
            "POOLHOUSE\n",
            "poolhouse\n",
            "3\n"
          ]
        }
      ]
    },
    {
      "cell_type": "code",
      "source": [
        "# Create list areas\n",
        "areas = [11.25, 18.0, 20.0, 10.75, 9.50]\n",
        "\n",
        "# Print out the index of the element 20.0\n",
        "print(areas.index(20))\n",
        "\n",
        "# Print out how often 9.50 appears in areas\n",
        "print(areas.count(9.50))\n"
      ],
      "metadata": {
        "id": "z2ilEy9-25mK"
      },
      "execution_count": null,
      "outputs": []
    },
    {
      "cell_type": "code",
      "source": [
        "'''\n",
        "Use append() twice to add the size of the poolhouse and the garage again: 24.5 and 15.45, respectively. Make sure to add them in this order.\n",
        "Print out areas\n",
        "Use the reverse() method to reverse the order of the elements in areas.\n",
        "Print out areas once more.\n",
        "\n",
        "'''\n",
        "\n",
        "# Create list areas\n",
        "areas = [11.25, 18.0, 20.0, 10.75, 9.50]\n",
        "\n",
        "# Use append twice to add poolhouse and garage size\n",
        "areas.append(24.5)\n",
        "areas.append(15.45)\n",
        "\n",
        "\n",
        "# Print out areas\n",
        "print(areas)\n",
        "\n",
        "# Reverse the orders of the elements in areas\n",
        "areas.reverse()\n",
        "\n",
        "# Print out areas\n",
        "print(areas)\n"
      ],
      "metadata": {
        "id": "RlEyNkho3jUQ"
      },
      "execution_count": null,
      "outputs": []
    },
    {
      "cell_type": "markdown",
      "source": [
        "## PAQUETES"
      ],
      "metadata": {
        "id": "DfFwPGl734Fu"
      }
    },
    {
      "cell_type": "markdown",
      "source": [
        "Los paquetes pueden contener muchas funciones y métodos específicos para ciertas cosas."
      ],
      "metadata": {
        "id": "6GViV-5K37-e"
      }
    },
    {
      "cell_type": "code",
      "source": [
        "# para mandarlos a llamar usaremos la palabra \"import\", seguido del nombre del paquete\n",
        "import numpy\n",
        "numpy.array([1,2,3])"
      ],
      "metadata": {
        "colab": {
          "base_uri": "https://localhost:8080/"
        },
        "id": "YKlz7z_z37Om",
        "outputId": "35cb8c52-9c99-40de-c1b3-d4a8bdc5dfb2"
      },
      "execution_count": null,
      "outputs": [
        {
          "output_type": "execute_result",
          "data": {
            "text/plain": [
              "array([1, 2, 3])"
            ]
          },
          "metadata": {},
          "execution_count": 69
        }
      ]
    },
    {
      "cell_type": "code",
      "source": [
        "import numpy as np\n",
        "np.array([1,2,3])"
      ],
      "metadata": {
        "colab": {
          "base_uri": "https://localhost:8080/"
        },
        "id": "sJbfcFXU8oM1",
        "outputId": "c673a967-490c-45de-da7f-7be92dc7f618"
      },
      "execution_count": null,
      "outputs": [
        {
          "output_type": "execute_result",
          "data": {
            "text/plain": [
              "array([1, 2, 3])"
            ]
          },
          "metadata": {},
          "execution_count": 70
        }
      ]
    },
    {
      "cell_type": "markdown",
      "source": [
        "Supongamos que solo necesitamos usar una sola función del paquete."
      ],
      "metadata": {
        "id": "UWSFZzlI9N6H"
      }
    },
    {
      "cell_type": "code",
      "source": [
        "from numpy import array\n",
        "array([1,2,3])"
      ],
      "metadata": {
        "colab": {
          "base_uri": "https://localhost:8080/"
        },
        "id": "04JvYENv9XTt",
        "outputId": "3ddeaa49-85a4-45ff-8013-7191338f77a8"
      },
      "execution_count": null,
      "outputs": [
        {
          "output_type": "execute_result",
          "data": {
            "text/plain": [
              "array([1, 2, 3])"
            ]
          },
          "metadata": {},
          "execution_count": 72
        }
      ]
    },
    {
      "cell_type": "markdown",
      "source": [
        "No se recomienda hacer esto mucho, porque si estamos trabajando con un script más largo, quién lea el código no sabrá que estamos trabajando con NUMPY en específico, por lo cual es mejor hacerlo de la primera forma."
      ],
      "metadata": {
        "id": "jCDMNpfg-XLs"
      }
    },
    {
      "cell_type": "markdown",
      "source": [
        "![image.png](data:image/png;base64,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)"
      ],
      "metadata": {
        "id": "tRZWBvvI_yOA"
      }
    },
    {
      "cell_type": "markdown",
      "source": [
        "### **EJERCICIOS**"
      ],
      "metadata": {
        "id": "LJYTJqqB_5Vr"
      }
    },
    {
      "cell_type": "code",
      "source": [
        "# Import the math package\n",
        "import math\n",
        "\n",
        "# Definition of radius\n",
        "r = 0.43\n",
        "\n",
        "# Calculate C\n",
        "C = 2*math.pi*r\n",
        "\n",
        "# Calculate A\n",
        "A = math.pi*r**2\n",
        "\n",
        "# Build printout\n",
        "print(\"Circumference: \" + str(C))\n",
        "print(\"Area: \" + str(A))"
      ],
      "metadata": {
        "colab": {
          "base_uri": "https://localhost:8080/"
        },
        "id": "vGi68kJr_426",
        "outputId": "2e19c648-06a2-4701-92c7-32ec0dd2b203"
      },
      "execution_count": null,
      "outputs": [
        {
          "output_type": "stream",
          "name": "stdout",
          "text": [
            "Circumference: 2.701769682087222\n",
            "Area: 0.5808804816487527\n"
          ]
        }
      ]
    },
    {
      "cell_type": "markdown",
      "source": [
        "Importación selectiva\n",
        "Las importaciones generales, como import math, hacen que todas las funciones del mathpaquete estén disponibles para usted. Sin embargo, si decide usar solo una parte específica de un paquete, siempre puede hacer que su importación sea más selectiva:\n",
        "\n",
        "**from math import pi**\n",
        "\n",
        "Digamos que la órbita de la Luna alrededor del planeta Tierra es un círculo perfecto, con un radio r(en km) que se define en el guión.\n",
        "\n",
        "Realice una importación selectiva desde el mathpaquete donde solo importa la **radians** función.\n",
        "\n",
        "Calcular la distancia recorrida por la Luna en 12 grados de su órbita. Asigne el resultado a dist. Puedes calcular esto como  **r * phi**, donde **r** es el radio y **phi** es el ángulo en radianes. Para convertir un ángulo en grados a un ángulo en radianes, use la **radians()** función que acaba de importar.\n",
        "Imprimir **dist**"
      ],
      "metadata": {
        "id": "5WhRkAtfBtmI"
      }
    },
    {
      "cell_type": "code",
      "source": [
        "# Import radians function of math package\n",
        "from math import radians\n",
        "\n",
        "# Definition of radius\n",
        "r = 192500\n",
        "phi = radians(12)\n",
        "\n",
        "# Travel distance of Moon over 12 degrees. Store in dist.\n",
        "dist = r * phi\n",
        "\n",
        "# Print out dist\n",
        "print(dist)"
      ],
      "metadata": {
        "colab": {
          "base_uri": "https://localhost:8080/"
        },
        "id": "Venm60MrCPjw",
        "outputId": "dffa6c56-4446-4ac7-817b-349974693e7f"
      },
      "execution_count": null,
      "outputs": [
        {
          "output_type": "stream",
          "name": "stdout",
          "text": [
            "40317.10572106901\n"
          ]
        }
      ]
    },
    {
      "cell_type": "markdown",
      "source": [
        "## NumPy"
      ],
      "metadata": {
        "id": "yGhGXv3zsOVV"
      }
    },
    {
      "cell_type": "markdown",
      "source": [
        "Si queremos hacer el cálculo de todo un array, sin NumPy , no se podrá realizar, sin embargo si lo utilizamos una de las bondades con las que cuenta esta librería es que nos permite poder realizar este tipo de operaciones."
      ],
      "metadata": {
        "id": "AI4wZchRw7dZ"
      }
    },
    {
      "cell_type": "markdown",
      "source": [
        "Alternativa de lista en Python: **NumPy Array**\n",
        "\n",
        "Puede realizar calculos en arreglos completos"
      ],
      "metadata": {
        "id": "TVZxLElOuBye"
      }
    },
    {
      "cell_type": "code",
      "source": [
        "import numpy as np\n",
        "height=[1.73,1.68,1.71,1.89,1.79]\n",
        "np_height = np.array(height)\n",
        "print(np_height)"
      ],
      "metadata": {
        "colab": {
          "base_uri": "https://localhost:8080/"
        },
        "id": "pkBipUdovl2b",
        "outputId": "aae09130-79db-4a91-b489-e08060d5b549"
      },
      "execution_count": null,
      "outputs": [
        {
          "output_type": "stream",
          "name": "stdout",
          "text": [
            "[1.73 1.68 1.71 1.89 1.79]\n"
          ]
        }
      ]
    },
    {
      "cell_type": "code",
      "source": [
        "weigth= [65.4,59.2,63.6,88.4,68.7]\n",
        "np_weight = np.array(weigth)\n",
        "print(np_weight)"
      ],
      "metadata": {
        "colab": {
          "base_uri": "https://localhost:8080/"
        },
        "id": "xVdsSiIXv6Yd",
        "outputId": "55ba9115-3234-4eda-d8d5-baed696d0484"
      },
      "execution_count": null,
      "outputs": [
        {
          "output_type": "stream",
          "name": "stdout",
          "text": [
            "[65.4 59.2 63.6 88.4 68.7]\n"
          ]
        }
      ]
    },
    {
      "cell_type": "code",
      "source": [
        "# indice de masa corporal\n",
        "imc = np_weight / np_height ** 2\n",
        "print(imc)"
      ],
      "metadata": {
        "colab": {
          "base_uri": "https://localhost:8080/"
        },
        "id": "VTZU-VufwWtG",
        "outputId": "ba507fcc-d4d5-4b19-9cc9-2bf265ff5e91"
      },
      "execution_count": null,
      "outputs": [
        {
          "output_type": "stream",
          "name": "stdout",
          "text": [
            "[21.85171573 20.97505669 21.75028214 24.7473475  21.44127836]\n"
          ]
        }
      ]
    },
    {
      "cell_type": "markdown",
      "source": [
        "Ejemplo de lo que sucedería si no usaramos NumPy"
      ],
      "metadata": {
        "id": "viUYLdmuzfMG"
      }
    },
    {
      "cell_type": "code",
      "source": [
        "weigth= [65.4,59.2,63.6,88.4,68.7]\n",
        "height=[1.73,1.68,1.71,1.89,1.79]\n",
        "weigth / height ** 2"
      ],
      "metadata": {
        "colab": {
          "base_uri": "https://localhost:8080/",
          "height": 200
        },
        "id": "je5Ze35CzS8t",
        "outputId": "26cff928-627a-4477-b72c-69da8917a3d4"
      },
      "execution_count": null,
      "outputs": [
        {
          "output_type": "error",
          "ename": "TypeError",
          "evalue": "ignored",
          "traceback": [
            "\u001b[0;31m---------------------------------------------------------------------------\u001b[0m",
            "\u001b[0;31mTypeError\u001b[0m                                 Traceback (most recent call last)",
            "\u001b[0;32m<ipython-input-14-9348f2b3bb65>\u001b[0m in \u001b[0;36m<cell line: 3>\u001b[0;34m()\u001b[0m\n\u001b[1;32m      1\u001b[0m \u001b[0mweigth\u001b[0m\u001b[0;34m=\u001b[0m \u001b[0;34m[\u001b[0m\u001b[0;36m65.4\u001b[0m\u001b[0;34m,\u001b[0m\u001b[0;36m59.2\u001b[0m\u001b[0;34m,\u001b[0m\u001b[0;36m63.6\u001b[0m\u001b[0;34m,\u001b[0m\u001b[0;36m88.4\u001b[0m\u001b[0;34m,\u001b[0m\u001b[0;36m68.7\u001b[0m\u001b[0;34m]\u001b[0m\u001b[0;34m\u001b[0m\u001b[0;34m\u001b[0m\u001b[0m\n\u001b[1;32m      2\u001b[0m \u001b[0mheight\u001b[0m\u001b[0;34m=\u001b[0m\u001b[0;34m[\u001b[0m\u001b[0;36m1.73\u001b[0m\u001b[0;34m,\u001b[0m\u001b[0;36m1.68\u001b[0m\u001b[0;34m,\u001b[0m\u001b[0;36m1.71\u001b[0m\u001b[0;34m,\u001b[0m\u001b[0;36m1.89\u001b[0m\u001b[0;34m,\u001b[0m\u001b[0;36m1.79\u001b[0m\u001b[0;34m]\u001b[0m\u001b[0;34m\u001b[0m\u001b[0;34m\u001b[0m\u001b[0m\n\u001b[0;32m----> 3\u001b[0;31m \u001b[0mweigth\u001b[0m \u001b[0;34m/\u001b[0m \u001b[0mheight\u001b[0m \u001b[0;34m**\u001b[0m \u001b[0;36m2\u001b[0m\u001b[0;34m\u001b[0m\u001b[0;34m\u001b[0m\u001b[0m\n\u001b[0m",
            "\u001b[0;31mTypeError\u001b[0m: unsupported operand type(s) for ** or pow(): 'list' and 'int'"
          ]
        }
      ]
    },
    {
      "cell_type": "code",
      "source": [
        "print(np.array([1.0,\"is\", True]))"
      ],
      "metadata": {
        "colab": {
          "base_uri": "https://localhost:8080/"
        },
        "id": "PuTIvhsKz4mr",
        "outputId": "68c8f245-0625-4756-9da1-929eaad15c72"
      },
      "execution_count": null,
      "outputs": [
        {
          "output_type": "stream",
          "name": "stdout",
          "text": [
            "['1.0' 'is' 'True']\n"
          ]
        }
      ]
    },
    {
      "cell_type": "markdown",
      "source": [
        "**CARACTERÍSTICAS DE NUMPY**\n",
        "\n",
        "NumPy arrays: contendrán un solo tipo de dato en la salida.\n",
        "\n",
        "NumPy contendrá sus propios métodos, por lo que se comportará de manera distinta con respecto a la sintaxis normal de python."
      ],
      "metadata": {
        "id": "2Kf3_o4N0fKq"
      }
    },
    {
      "cell_type": "code",
      "source": [
        "python_list = [1,2,3]\n",
        "numpy_array = np.array([1,2,3])"
      ],
      "metadata": {
        "id": "5JJA5Mqy2hMq"
      },
      "execution_count": null,
      "outputs": []
    },
    {
      "cell_type": "markdown",
      "source": [
        "Diferirá mucho el resultado con respecto a qué paquetes o funciones utilices"
      ],
      "metadata": {
        "id": "sDu8tP099H-k"
      }
    },
    {
      "cell_type": "code",
      "source": [
        "python_list + python_list"
      ],
      "metadata": {
        "colab": {
          "base_uri": "https://localhost:8080/"
        },
        "id": "Gjb4rbd-2rux",
        "outputId": "a1a073bb-fc29-40af-9727-46b8ffeaa34d"
      },
      "execution_count": null,
      "outputs": [
        {
          "output_type": "execute_result",
          "data": {
            "text/plain": [
              "[1, 2, 3, 1, 2, 3]"
            ]
          },
          "metadata": {},
          "execution_count": 19
        }
      ]
    },
    {
      "cell_type": "code",
      "source": [
        "numpy_array + numpy_array"
      ],
      "metadata": {
        "colab": {
          "base_uri": "https://localhost:8080/"
        },
        "id": "h3lY6aa38lsj",
        "outputId": "bc376a7a-614d-4eea-889c-b328f20d6022"
      },
      "execution_count": null,
      "outputs": [
        {
          "output_type": "execute_result",
          "data": {
            "text/plain": [
              "array([2, 4, 6])"
            ]
          },
          "metadata": {},
          "execution_count": 20
        }
      ]
    },
    {
      "cell_type": "markdown",
      "source": [
        "**NumPy subsetting** - **Subconjunto de listas**"
      ],
      "metadata": {
        "id": "x4ywWaCZ-MQ6"
      }
    },
    {
      "cell_type": "code",
      "source": [
        "print(imc)\n",
        "print(round(imc[1],2))"
      ],
      "metadata": {
        "colab": {
          "base_uri": "https://localhost:8080/"
        },
        "id": "_gOtz8JA9nO9",
        "outputId": "99c8abe6-4614-4047-d0ea-64d98ce27485"
      },
      "execution_count": null,
      "outputs": [
        {
          "output_type": "stream",
          "name": "stdout",
          "text": [
            "[21.85171573 20.97505669 21.75028214 24.7473475  21.44127836]\n",
            "20.98\n"
          ]
        }
      ]
    },
    {
      "cell_type": "markdown",
      "source": [
        "Crear un subconjunto de Matriz de valores booleanos"
      ],
      "metadata": {
        "id": "QCRlMJ8V_Hqb"
      }
    },
    {
      "cell_type": "code",
      "source": [
        "imc > 23"
      ],
      "metadata": {
        "colab": {
          "base_uri": "https://localhost:8080/"
        },
        "id": "rNvLzmwJ-Qdt",
        "outputId": "2052e49a-352d-4ed9-f13d-a4af50253cbb"
      },
      "execution_count": null,
      "outputs": [
        {
          "output_type": "execute_result",
          "data": {
            "text/plain": [
              "array([False, False, False,  True, False])"
            ]
          },
          "metadata": {},
          "execution_count": 25
        }
      ]
    },
    {
      "cell_type": "markdown",
      "source": [
        "Podemos usar esta matriz booleana para crear subconjuntos"
      ],
      "metadata": {
        "id": "N7HWarvp_YTW"
      }
    },
    {
      "cell_type": "code",
      "source": [
        "imc[imc > 23]"
      ],
      "metadata": {
        "colab": {
          "base_uri": "https://localhost:8080/"
        },
        "id": "7m4q-j49-lda",
        "outputId": "4be1a737-1481-431a-b5ec-c8200ff4232d"
      },
      "execution_count": null,
      "outputs": [
        {
          "output_type": "execute_result",
          "data": {
            "text/plain": [
              "array([24.7473475])"
            ]
          },
          "metadata": {},
          "execution_count": 26
        }
      ]
    },
    {
      "cell_type": "markdown",
      "source": [
        "### Ejemplos"
      ],
      "metadata": {
        "id": "5Igf4PxkBjYi"
      }
    },
    {
      "cell_type": "code",
      "source": [
        "# Import numpy\n",
        "import numpy as np\n",
        "\n",
        "height_in= [74, 74, 72, 75, 75, 73]\n",
        "# Create a numpy array from height_in: np_height_in\n",
        "np_height_in = np.array(height_in)\n",
        "\n",
        "# Print out np_height_in\n",
        "print(np_height_in)\n",
        "\n",
        "# Convert np_height_in to m: np_height_m\n",
        "np_height_m = np_height_in * 0.0254\n",
        "\n",
        "# Print np_height_m\n",
        "print(np_height_m)"
      ],
      "metadata": {
        "colab": {
          "base_uri": "https://localhost:8080/"
        },
        "id": "5xNUTnw6BmoF",
        "outputId": "df9a2790-4edb-4860-c19b-9ffb5a3de8a5"
      },
      "execution_count": null,
      "outputs": [
        {
          "output_type": "stream",
          "name": "stdout",
          "text": [
            "[74 74 72 75 75 73]\n",
            "[1.8796 1.8796 1.8288 1.905  1.905  1.8542]\n"
          ]
        }
      ]
    },
    {
      "cell_type": "code",
      "source": [
        "x = [4 , 9 , 6, 3, 1]\n",
        "print(x[1])\n",
        "import numpy as np\n",
        "y = np.array(x)\n",
        "print(y[1])"
      ],
      "metadata": {
        "colab": {
          "base_uri": "https://localhost:8080/"
        },
        "id": "_1xIzGHyGhdM",
        "outputId": "16f489d4-2bd6-49b2-e72e-42ed26e04a49"
      },
      "execution_count": null,
      "outputs": [
        {
          "output_type": "stream",
          "name": "stdout",
          "text": [
            "9\n",
            "9\n"
          ]
        }
      ]
    },
    {
      "cell_type": "markdown",
      "source": [
        "Have a look at this line of code:\n",
        "\n",
        "np.array([True, 1, 2]) + np.array([3, 4, False])\n",
        "\n",
        "Can you tell which code chunk builds the exact same Python object? The numpy package is already imported as np, so you can start experimenting in the IPython Shell straight away!"
      ],
      "metadata": {
        "id": "dqRrtIppNhjs"
      }
    },
    {
      "cell_type": "code",
      "source": [
        "np.array([True, 1, 2]) + np.array([3, 4, False])"
      ],
      "metadata": {
        "colab": {
          "base_uri": "https://localhost:8080/"
        },
        "id": "f_4Fu5JjMAZn",
        "outputId": "eaab9234-d65d-4132-cf16-559da54864a3"
      },
      "execution_count": null,
      "outputs": [
        {
          "output_type": "execute_result",
          "data": {
            "text/plain": [
              "array([4, 5, 2])"
            ]
          },
          "metadata": {},
          "execution_count": 32
        }
      ]
    },
    {
      "cell_type": "code",
      "source": [
        "# ANSWER\n",
        "\n",
        "np.array([4, 3, 0]) + np.array([0, 2, 2])"
      ],
      "metadata": {
        "colab": {
          "base_uri": "https://localhost:8080/"
        },
        "id": "hge9_Kk_NuTv",
        "outputId": "c352681d-f471-4430-f06a-83fe1f78c0a9"
      },
      "execution_count": null,
      "outputs": [
        {
          "output_type": "execute_result",
          "data": {
            "text/plain": [
              "array([4, 5, 2])"
            ]
          },
          "metadata": {},
          "execution_count": 33
        }
      ]
    },
    {
      "cell_type": "code",
      "source": [
        "# Import numpy\n",
        "import numpy as np\n",
        "\n",
        "# Store weight and height lists as numpy arrays\n",
        "np_weight_lb = np.array(weight_lb)\n",
        "np_height_in = np.array(height_in)\n",
        "\n",
        "# Print out the weight at index 50\n",
        "print(weight_lb[50])\n",
        "\n",
        "# Print out sub-array of np_height_in: index 100 up to and including index 110\n",
        "print(np_height_in[100:111])"
      ],
      "metadata": {
        "colab": {
          "base_uri": "https://localhost:8080/",
          "height": 235
        },
        "id": "nou0QJf0iARx",
        "outputId": "00b9d950-cadc-4244-da49-1d9d18aa0012"
      },
      "execution_count": null,
      "outputs": [
        {
          "output_type": "error",
          "ename": "NameError",
          "evalue": "ignored",
          "traceback": [
            "\u001b[0;31m---------------------------------------------------------------------------\u001b[0m",
            "\u001b[0;31mNameError\u001b[0m                                 Traceback (most recent call last)",
            "\u001b[0;32m<ipython-input-3-14ec9f8bac9a>\u001b[0m in \u001b[0;36m<cell line: 5>\u001b[0;34m()\u001b[0m\n\u001b[1;32m      3\u001b[0m \u001b[0;34m\u001b[0m\u001b[0m\n\u001b[1;32m      4\u001b[0m \u001b[0;31m# Store weight and height lists as numpy arrays\u001b[0m\u001b[0;34m\u001b[0m\u001b[0;34m\u001b[0m\u001b[0m\n\u001b[0;32m----> 5\u001b[0;31m \u001b[0mnp_weight_lb\u001b[0m \u001b[0;34m=\u001b[0m \u001b[0mnp\u001b[0m\u001b[0;34m.\u001b[0m\u001b[0marray\u001b[0m\u001b[0;34m(\u001b[0m\u001b[0mweight_lb\u001b[0m\u001b[0;34m)\u001b[0m\u001b[0;34m\u001b[0m\u001b[0;34m\u001b[0m\u001b[0m\n\u001b[0m\u001b[1;32m      6\u001b[0m \u001b[0mnp_height_in\u001b[0m \u001b[0;34m=\u001b[0m \u001b[0mnp\u001b[0m\u001b[0;34m.\u001b[0m\u001b[0marray\u001b[0m\u001b[0;34m(\u001b[0m\u001b[0mheight_in\u001b[0m\u001b[0;34m)\u001b[0m\u001b[0;34m\u001b[0m\u001b[0;34m\u001b[0m\u001b[0m\n\u001b[1;32m      7\u001b[0m \u001b[0;34m\u001b[0m\u001b[0m\n",
            "\u001b[0;31mNameError\u001b[0m: name 'weight_lb' is not defined"
          ]
        }
      ]
    },
    {
      "cell_type": "markdown",
      "source": [
        "### 2D NumPy"
      ],
      "metadata": {
        "id": "CgWRjPDnkhJO"
      }
    },
    {
      "cell_type": "code",
      "source": [
        "# estos son arreglos unidemensionales\n",
        "\n",
        "import numpy as np\n",
        "np_height = np.array([1.73,1.68,1.71,1.89,1.79])\n",
        "np_weight = np.array([65.4,59.2,63.6,88.4,68.7])\n",
        "\n",
        "print(sorted(np_height, reverse = True))"
      ],
      "metadata": {
        "colab": {
          "base_uri": "https://localhost:8080/"
        },
        "id": "w-TPDltDkkjz",
        "outputId": "9aab9364-d109-4017-93fa-e64d97bbc1eb"
      },
      "execution_count": null,
      "outputs": [
        {
          "output_type": "stream",
          "name": "stdout",
          "text": [
            "[1.89, 1.79, 1.73, 1.71, 1.68]\n"
          ]
        }
      ]
    },
    {
      "cell_type": "markdown",
      "source": [
        "ARREGLO BIDIMENSIONAL"
      ],
      "metadata": {
        "id": "n_RuTxqIm8-7"
      }
    },
    {
      "cell_type": "code",
      "source": [
        "np_2d = np.array([[1.73,1.68,1.71,1.89,1.79],\n",
        "                 [65.4,59.2,63.6,88.4,68.7]])\n",
        "\n",
        "np_2d"
      ],
      "metadata": {
        "colab": {
          "base_uri": "https://localhost:8080/"
        },
        "id": "nxjbIJbbnAYY",
        "outputId": "088ba674-6357-403c-bd0e-475cec311904"
      },
      "execution_count": null,
      "outputs": [
        {
          "output_type": "execute_result",
          "data": {
            "text/plain": [
              "array([[ 1.73,  1.68,  1.71,  1.89,  1.79],\n",
              "       [65.4 , 59.2 , 63.6 , 88.4 , 68.7 ]])"
            ]
          },
          "metadata": {},
          "execution_count": 4
        }
      ]
    },
    {
      "cell_type": "markdown",
      "source": [
        "Formas de consultar un dato dentro del arreglo bidimensional"
      ],
      "metadata": {
        "id": "r4KqhA8c3AYI"
      }
    },
    {
      "cell_type": "code",
      "source": [
        "print(np_2d[0,3])\n",
        "print(np_2d[1][3])"
      ],
      "metadata": {
        "colab": {
          "base_uri": "https://localhost:8080/"
        },
        "id": "Ty_Rptt9povP",
        "outputId": "c055c5c2-a662-4b14-dfa9-eccf4cd40d3c"
      },
      "execution_count": null,
      "outputs": [
        {
          "output_type": "stream",
          "name": "stdout",
          "text": [
            "1.89\n",
            "88.4\n"
          ]
        }
      ]
    },
    {
      "cell_type": "markdown",
      "source": [
        "Formas de consultar datos dentro del arreglo bidimensional"
      ],
      "metadata": {
        "id": "23GeiXjM3I2u"
      }
    },
    {
      "cell_type": "code",
      "source": [
        "print(np_2d[:, 1:3])"
      ],
      "metadata": {
        "colab": {
          "base_uri": "https://localhost:8080/"
        },
        "id": "NVrDyQ4t3Ot7",
        "outputId": "a20359c8-c0ec-4e23-cadc-974a4ff01b6f"
      },
      "execution_count": null,
      "outputs": [
        {
          "output_type": "stream",
          "name": "stdout",
          "text": [
            "[[ 1.68  1.71]\n",
            " [59.2  63.6 ]]\n"
          ]
        }
      ]
    },
    {
      "cell_type": "code",
      "source": [
        "print(np_2d[1, :])"
      ],
      "metadata": {
        "colab": {
          "base_uri": "https://localhost:8080/"
        },
        "id": "9RKNCO3E4PuG",
        "outputId": "c2801bde-6245-47c3-9a1c-958b184acafd"
      },
      "execution_count": null,
      "outputs": [
        {
          "output_type": "stream",
          "name": "stdout",
          "text": [
            "[65.4 59.2 63.6 88.4 68.7]\n"
          ]
        }
      ]
    },
    {
      "cell_type": "markdown",
      "source": [
        "### Ejemplos"
      ],
      "metadata": {
        "id": "ykFIvIhR4jwt"
      }
    },
    {
      "cell_type": "markdown",
      "source": [
        "In this exercise, baseball is a list of lists. The main list contains 4 elements. Each of these elements is a list containing the height and the weight of 4 baseball players, in this order. baseball is already coded for you in the script."
      ],
      "metadata": {
        "id": "TW8mf-7l4yXT"
      }
    },
    {
      "cell_type": "markdown",
      "source": [
        "shape, nos servirá para saber el tamaño del arreglo"
      ],
      "metadata": {
        "id": "OfJNM0WL5XvI"
      }
    },
    {
      "cell_type": "code",
      "source": [
        "# Import numpy\n",
        "import numpy as np\n",
        "\n",
        "# Create baseball, a list of lists\n",
        "baseball = [[180, 78.4],\n",
        "            [215, 102.7],\n",
        "            [210, 98.5],\n",
        "            [188, 75.2]]\n",
        "\n",
        "# Create a 2D numpy array from baseball: np_baseball\n",
        "np_baseball = np.array(baseball)\n",
        "\n",
        "# Print out the type of np_baseball\n",
        "print(type(np_baseball))\n",
        "\n",
        "# Print out the shape of np_baseball\n",
        "print(np_baseball.shape)"
      ],
      "metadata": {
        "colab": {
          "base_uri": "https://localhost:8080/"
        },
        "id": "NS9BINyn4nNp",
        "outputId": "88874152-bc2f-48b8-ad66-16b3e99d59d2"
      },
      "execution_count": null,
      "outputs": [
        {
          "output_type": "stream",
          "name": "stdout",
          "text": [
            "<class 'numpy.ndarray'>\n",
            "(4, 2)\n"
          ]
        }
      ]
    },
    {
      "cell_type": "code",
      "source": [
        "# regular list of lists\n",
        "x = [[\"a\", \"b\"], [\"c\", \"d\"]]\n",
        "[x[0][0], x[1][0]]"
      ],
      "metadata": {
        "colab": {
          "base_uri": "https://localhost:8080/"
        },
        "id": "3te5U-uJ8kwL",
        "outputId": "01e78dc3-2280-43b5-a799-50a4cc76d03e"
      },
      "execution_count": null,
      "outputs": [
        {
          "output_type": "execute_result",
          "data": {
            "text/plain": [
              "['a', 'c']"
            ]
          },
          "metadata": {},
          "execution_count": 10
        }
      ]
    },
    {
      "cell_type": "code",
      "source": [
        "# numpy\n",
        "import numpy as np\n",
        "np_x = np.array(x)\n",
        "np_x[:, 0]"
      ],
      "metadata": {
        "colab": {
          "base_uri": "https://localhost:8080/"
        },
        "id": "eQhnZPwO8u_3",
        "outputId": "8385b357-cdb3-42b6-924a-6e7914e74b63"
      },
      "execution_count": null,
      "outputs": [
        {
          "output_type": "execute_result",
          "data": {
            "text/plain": [
              "array(['a', 'c'], dtype='<U1')"
            ]
          },
          "metadata": {},
          "execution_count": 11
        }
      ]
    },
    {
      "cell_type": "code",
      "source": [
        "# Import numpy package\n",
        "import numpy as np\n",
        "\n",
        "# Create np_baseball (2 cols)\n",
        "np_baseball = np.array(baseball)\n",
        "\n",
        "# Print out the 50th row of np_baseball\n",
        "print(np_baseball[49,:])\n",
        "print(np_baseball.shape)\n",
        "\n",
        "# Select the entire second column of np_baseball: np_weight_lb\n",
        "np_weight_lb = np.array(np_baseball[:,1])\n",
        "\n",
        "# Print out height of 124th player\n",
        "print(np_baseball[123,0])"
      ],
      "metadata": {
        "id": "n_YU9qqNBXVc"
      },
      "execution_count": null,
      "outputs": []
    },
    {
      "cell_type": "markdown",
      "source": [
        "Operaciones con los 2D Numpy"
      ],
      "metadata": {
        "id": "xF69eUygMlgM"
      }
    },
    {
      "cell_type": "code",
      "source": [
        "import numpy as np\n",
        "np_mat = np.array([[1, 2],\n",
        "                   [3, 4],\n",
        "                   [5, 6]])\n",
        "print(\"1er array\",np_mat * 2)\n",
        "print(\"2do array\",np_mat + np.array([10, 10]))\n",
        "print(\"3er array\",np_mat + np_mat)\n",
        "print(np_mat.shape)"
      ],
      "metadata": {
        "colab": {
          "base_uri": "https://localhost:8080/"
        },
        "id": "XUGBVhPrDDnl",
        "outputId": "a2e4e4d3-3d7c-417e-a19e-2a9df7d4280b"
      },
      "execution_count": null,
      "outputs": [
        {
          "output_type": "stream",
          "name": "stdout",
          "text": [
            "1er array [[ 2  4]\n",
            " [ 6  8]\n",
            " [10 12]]\n",
            "2do array [[11 12]\n",
            " [13 14]\n",
            " [15 16]]\n",
            "3er array [[ 2  4]\n",
            " [ 6  8]\n",
            " [10 12]]\n",
            "(3, 2)\n"
          ]
        }
      ]
    },
    {
      "cell_type": "markdown",
      "source": [
        "## Numpy : Estadísticas básicas"
      ],
      "metadata": {
        "id": "L3oYiWZeMqwC"
      }
    },
    {
      "cell_type": "markdown",
      "source": [
        "Media : Promedio\n",
        "Mediana : se puede calcular poniendo los números en orden ascendente y luego localizando el número del centro de esa distribución"
      ],
      "metadata": {
        "id": "xItaoAKfMxyS"
      }
    },
    {
      "cell_type": "code",
      "source": [
        "# media\n",
        "np.mean(np_city[:,0])\n",
        "# mediana\n",
        "np.median(np_city[:,0])"
      ],
      "metadata": {
        "id": "UoOdqkkwNFGt"
      },
      "execution_count": null,
      "outputs": []
    },
    {
      "cell_type": "code",
      "source": [
        "import numpy as np\n",
        "# np.corcoef , muestra la correlación entre los datos\n",
        "# np.corrcoef(np_city[:,0], np_city[:,1])\n",
        "# selecciona todas las filas de la columan 0 y todas las filas de la columna 1 , para hacer la correlacionar entre los datos"
      ],
      "metadata": {
        "id": "yMl1x52ENiNS"
      },
      "execution_count": null,
      "outputs": []
    },
    {
      "cell_type": "code",
      "source": [
        "# desviación estándar\n",
        "# medida que se utiliza para cuantificar la variación o\n",
        "# la dispersión de un conjunto de datos numéricos.​\n",
        "np.std(np_city[:,0])"
      ],
      "metadata": {
        "id": "eOQPcyFQQo8T"
      },
      "execution_count": null,
      "outputs": []
    },
    {
      "cell_type": "code",
      "source": [
        "import numpy as np\n",
        "\n",
        "# Crear una matriz 2D de ejemplo\n",
        "data_2d = np.array([\n",
        "    [1, 2, 3],\n",
        "    [4, 5, 6],\n",
        "    [7, 8, 9]\n",
        "    ])\n",
        "\n",
        "# Calcular la desviación estándar a lo largo de todo el conjunto de datos\n",
        "std_all = np.std(data_2d)\n",
        "\n",
        "# Calcular la desviación estándar a lo largo de las filas\n",
        "std_row = np.std(data_2d[0,:])\n",
        "\n",
        "# Calcular la desviación estándar a lo largo de las columnas\n",
        "std_column = np.std(data_2d[:,1])\n",
        "\n",
        "print(\"Matriz 2D:\")\n",
        "print(data_2d)\n",
        "print(\"Desviación estándar de todos los datos:\", std_all)\n",
        "print(\"Desviación estándar a lo largo de las filas:\", std_row)\n",
        "print(\"Desviación estándar a lo largo de las columnas:\", std_column)\n"
      ],
      "metadata": {
        "colab": {
          "base_uri": "https://localhost:8080/"
        },
        "id": "UMhJQTMNRkPV",
        "outputId": "234937f1-be40-49b2-8979-db1f614ea64e"
      },
      "execution_count": null,
      "outputs": [
        {
          "output_type": "stream",
          "name": "stdout",
          "text": [
            "Matriz 2D:\n",
            "[[1 2 3]\n",
            " [4 5 6]\n",
            " [7 8 9]]\n",
            "Desviación estándar de todos los datos: 2.581988897471611\n",
            "Desviación estándar a lo largo de las filas: 0.816496580927726\n",
            "Desviación estándar a lo largo de las columnas: 2.449489742783178\n"
          ]
        }
      ]
    },
    {
      "cell_type": "markdown",
      "source": [
        "### Ejercicios"
      ],
      "metadata": {
        "id": "yyrWZDSZVkIc"
      }
    },
    {
      "cell_type": "code",
      "source": [
        "# Import numpy\n",
        "import numpy as np\n",
        "\n",
        "# Convert positions and heights to numpy arrays: np_positions, np_heights\n",
        "np_positions = np.array(positions)\n",
        "np_heights = np.array(heights)\n",
        "\n",
        "\n",
        "# Heights of the goalkeepers: gk_heights\n",
        "gk_heights = np_heights[np_positions == 'GK']\n",
        "\n",
        "\n",
        "# Heights of the other players: other_heights\n",
        "other_heights = np_heights[np_positions != 'GK']\n",
        "\n",
        "# Print out the median height of goalkeepers. Replace 'None'\n",
        "print(\"Median height of goalkeepers: \" + str(np.median(gk_heights)))\n",
        "\n",
        "# Print out the median height of other players. Replace 'None'\n",
        "print(\"Median height of other players: \" + str(np.median(other_heights)))"
      ],
      "metadata": {
        "colab": {
          "base_uri": "https://localhost:8080/",
          "height": 235
        },
        "id": "yMgGfT4xVnGD",
        "outputId": "1ec119c3-c722-413f-f626-26b7e11786fc"
      },
      "execution_count": null,
      "outputs": [
        {
          "output_type": "error",
          "ename": "NameError",
          "evalue": "ignored",
          "traceback": [
            "\u001b[0;31m---------------------------------------------------------------------------\u001b[0m",
            "\u001b[0;31mNameError\u001b[0m                                 Traceback (most recent call last)",
            "\u001b[0;32m<ipython-input-38-25a682bf4498>\u001b[0m in \u001b[0;36m<cell line: 5>\u001b[0;34m()\u001b[0m\n\u001b[1;32m      3\u001b[0m \u001b[0;34m\u001b[0m\u001b[0m\n\u001b[1;32m      4\u001b[0m \u001b[0;31m# Convert positions and heights to numpy arrays: np_positions, np_heights\u001b[0m\u001b[0;34m\u001b[0m\u001b[0;34m\u001b[0m\u001b[0m\n\u001b[0;32m----> 5\u001b[0;31m \u001b[0mnp_positions\u001b[0m \u001b[0;34m=\u001b[0m \u001b[0mnp\u001b[0m\u001b[0;34m.\u001b[0m\u001b[0marray\u001b[0m\u001b[0;34m(\u001b[0m\u001b[0mpositions\u001b[0m\u001b[0;34m)\u001b[0m\u001b[0;34m\u001b[0m\u001b[0;34m\u001b[0m\u001b[0m\n\u001b[0m\u001b[1;32m      6\u001b[0m \u001b[0mnp_heights\u001b[0m \u001b[0;34m=\u001b[0m \u001b[0mnp\u001b[0m\u001b[0;34m.\u001b[0m\u001b[0marray\u001b[0m\u001b[0;34m(\u001b[0m\u001b[0mheights\u001b[0m\u001b[0;34m)\u001b[0m\u001b[0;34m\u001b[0m\u001b[0;34m\u001b[0m\u001b[0m\n\u001b[1;32m      7\u001b[0m \u001b[0;34m\u001b[0m\u001b[0m\n",
            "\u001b[0;31mNameError\u001b[0m: name 'positions' is not defined"
          ]
        }
      ]
    }
  ]
}