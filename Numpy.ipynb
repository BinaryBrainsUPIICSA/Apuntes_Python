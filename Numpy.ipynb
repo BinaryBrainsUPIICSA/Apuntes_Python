{
  "nbformat": 4,
  "nbformat_minor": 0,
  "metadata": {
    "colab": {
      "provenance": [],
      "authorship_tag": "ABX9TyMXZ7YUvlhqru47+7tkU5x9",
      "include_colab_link": true
    },
    "kernelspec": {
      "name": "python3",
      "display_name": "Python 3"
    },
    "language_info": {
      "name": "python"
    }
  },
  "cells": [
    {
      "cell_type": "markdown",
      "metadata": {
        "id": "view-in-github",
        "colab_type": "text"
      },
      "source": [
        "<a href=\"https://colab.research.google.com/github/BinaryBrainsUPIICSA/Apuntes_Python/blob/main/Numpy.ipynb\" target=\"_parent\"><img src=\"https://colab.research.google.com/assets/colab-badge.svg\" alt=\"Open In Colab\"/></a>"
      ]
    },
    {
      "cell_type": "markdown",
      "source": [
        "## Introducción"
      ],
      "metadata": {
        "id": "EH0DUNV9eUEB"
      }
    },
    {
      "cell_type": "code",
      "execution_count": null,
      "metadata": {
        "id": "A-hZjnuGcUWm"
      },
      "outputs": [],
      "source": [
        "import numpy as np"
      ]
    },
    {
      "cell_type": "markdown",
      "source": [
        "Crear un arreglo en NumPy\n",
        "\n",
        "\n",
        "Un arreglo es: Estructura de datos que nos pertmite almacenar datos, estos datos deben ser del mismo tipo."
      ],
      "metadata": {
        "id": "fdGIDcXqcj6T"
      }
    },
    {
      "cell_type": "code",
      "source": [
        "np.array([1,2,3,4,5])"
      ],
      "metadata": {
        "colab": {
          "base_uri": "https://localhost:8080/"
        },
        "id": "U62lfm28cjit",
        "outputId": "b59d44bb-fa68-40c4-b820-8033ce1a5b65"
      },
      "execution_count": null,
      "outputs": [
        {
          "output_type": "execute_result",
          "data": {
            "text/plain": [
              "array([1, 2, 3, 4, 5])"
            ]
          },
          "metadata": {},
          "execution_count": 3
        }
      ]
    },
    {
      "cell_type": "code",
      "source": [
        "a = np.array([1,2,3,4,5])\n",
        "print(a)\n",
        "print(type(a))"
      ],
      "metadata": {
        "colab": {
          "base_uri": "https://localhost:8080/"
        },
        "id": "gXb60RUHc_kk",
        "outputId": "36f6b655-8d8c-41c8-cf28-dc377aad7be1"
      },
      "execution_count": null,
      "outputs": [
        {
          "output_type": "stream",
          "name": "stdout",
          "text": [
            "[1 2 3 4 5]\n",
            "<class 'numpy.ndarray'>\n"
          ]
        }
      ]
    },
    {
      "cell_type": "markdown",
      "source": [
        "Conocer la cantidad de elementos del array"
      ],
      "metadata": {
        "id": "DsBUY4zWdS4-"
      }
    },
    {
      "cell_type": "code",
      "source": [
        "print(a.size)"
      ],
      "metadata": {
        "colab": {
          "base_uri": "https://localhost:8080/"
        },
        "id": "_j7BwVKEdV5d",
        "outputId": "a4723e8e-841e-400d-8d81-05b73d203be1"
      },
      "execution_count": null,
      "outputs": [
        {
          "output_type": "stream",
          "name": "stdout",
          "text": [
            "5\n"
          ]
        }
      ]
    },
    {
      "cell_type": "markdown",
      "source": [
        "Conocer la cantidad de dimensiones que contiene un arreglo"
      ],
      "metadata": {
        "id": "-O70uSC1dgo1"
      }
    },
    {
      "cell_type": "code",
      "source": [
        "print(a.ndim)"
      ],
      "metadata": {
        "colab": {
          "base_uri": "https://localhost:8080/"
        },
        "id": "TxBuqg5fdbCU",
        "outputId": "7f428d38-af24-473a-e0ba-ae2170862c2e"
      },
      "execution_count": null,
      "outputs": [
        {
          "output_type": "stream",
          "name": "stdout",
          "text": [
            "1\n"
          ]
        }
      ]
    },
    {
      "cell_type": "markdown",
      "source": [
        "Conocer qué tipo de datos contiene el arreglo"
      ],
      "metadata": {
        "id": "Zdz0thQldlxW"
      }
    },
    {
      "cell_type": "code",
      "source": [
        "print(a.dtype)"
      ],
      "metadata": {
        "colab": {
          "base_uri": "https://localhost:8080/"
        },
        "id": "BxYDDu2rdrNe",
        "outputId": "be99f846-ca3d-4304-959e-b7ca9caba5bc"
      },
      "execution_count": null,
      "outputs": [
        {
          "output_type": "stream",
          "name": "stdout",
          "text": [
            "int64\n"
          ]
        }
      ]
    },
    {
      "cell_type": "markdown",
      "source": [
        "Conocer las dimensiones y elementos dentro del arreglo"
      ],
      "metadata": {
        "id": "R7MuRM8Mdw3Y"
      }
    },
    {
      "cell_type": "code",
      "source": [
        "print(a.shape)"
      ],
      "metadata": {
        "colab": {
          "base_uri": "https://localhost:8080/"
        },
        "id": "_A-cnPLLd5ys",
        "outputId": "9613b33a-e3e7-4d49-8e19-608f2fbff9fb"
      },
      "execution_count": null,
      "outputs": [
        {
          "output_type": "stream",
          "name": "stdout",
          "text": [
            "(5,)\n"
          ]
        }
      ]
    },
    {
      "cell_type": "markdown",
      "source": [
        "**UNA VEZ QUE SE HA DEFINIDO LA LONGITUD DEL ARREGLO YA NO SE PODRÁ MODIFICAR**"
      ],
      "metadata": {
        "id": "WqGDCLp7eJb_"
      }
    },
    {
      "cell_type": "markdown",
      "source": [
        "## OPERACIONES"
      ],
      "metadata": {
        "id": "mTOHVrXaeYfo"
      }
    },
    {
      "cell_type": "markdown",
      "source": [
        "Si queremos hacer el cálculo de todo un array, sin NumPy , no se podrá realizar, sin embargo si lo utilizamos una de las bondades con las que cuenta esta librería es que nos permite poder realizar este tipo de operaciones."
      ],
      "metadata": {
        "id": "blXYDOTyxSiO"
      }
    },
    {
      "cell_type": "code",
      "source": [
        "numeros = np.array([5,10,15,20,25])"
      ],
      "metadata": {
        "id": "q3KeGZp2eb3A"
      },
      "execution_count": null,
      "outputs": []
    },
    {
      "cell_type": "code",
      "source": [
        "print(numeros)"
      ],
      "metadata": {
        "colab": {
          "base_uri": "https://localhost:8080/"
        },
        "id": "217-NGwJeomO",
        "outputId": "d157db87-e39d-4d90-940f-5912899fad1f"
      },
      "execution_count": null,
      "outputs": [
        {
          "output_type": "stream",
          "name": "stdout",
          "text": [
            "[ 5 10 15 20 25]\n"
          ]
        }
      ]
    },
    {
      "cell_type": "markdown",
      "source": [
        "si quiero añadir 10 a c/u de los elementos del arreglo"
      ],
      "metadata": {
        "id": "A7XalGH5esbl"
      }
    },
    {
      "cell_type": "code",
      "source": [
        "numeros + 10"
      ],
      "metadata": {
        "colab": {
          "base_uri": "https://localhost:8080/"
        },
        "id": "IMf0MMpYeq0I",
        "outputId": "e4b84c06-d07a-4c1a-ec74-5e2b41a5f1cc"
      },
      "execution_count": null,
      "outputs": [
        {
          "output_type": "execute_result",
          "data": {
            "text/plain": [
              "array([15, 20, 25, 30, 35])"
            ]
          },
          "metadata": {},
          "execution_count": 6
        }
      ]
    },
    {
      "cell_type": "markdown",
      "source": [
        "Podemos observar que el arreglo orginal no fue modificado"
      ],
      "metadata": {
        "id": "QfLyB0yAe-wN"
      }
    },
    {
      "cell_type": "code",
      "source": [
        "print(numeros)"
      ],
      "metadata": {
        "colab": {
          "base_uri": "https://localhost:8080/"
        },
        "id": "ull4j20We8QI",
        "outputId": "b3e82f82-3cb6-471d-da8d-ca39833f7749"
      },
      "execution_count": null,
      "outputs": [
        {
          "output_type": "stream",
          "name": "stdout",
          "text": [
            "[ 5 10 15 20 25]\n"
          ]
        }
      ]
    },
    {
      "cell_type": "code",
      "source": [
        "arreglo_a = np.array([6,12,18,24,30])\n",
        "arreglo_b = np.array([5,10,15,20,25])"
      ],
      "metadata": {
        "id": "Xc8Yb2cuvYIQ"
      },
      "execution_count": null,
      "outputs": []
    },
    {
      "cell_type": "code",
      "source": [
        "print(arreglo_a + arreglo_b)"
      ],
      "metadata": {
        "colab": {
          "base_uri": "https://localhost:8080/"
        },
        "id": "0NfwgVhCvjBC",
        "outputId": "e049ecea-0975-4562-e06d-12e00a6e7a49"
      },
      "execution_count": null,
      "outputs": [
        {
          "output_type": "stream",
          "name": "stdout",
          "text": [
            "[11 22 33 44 55]\n"
          ]
        }
      ]
    },
    {
      "cell_type": "code",
      "source": [
        "resultado = arreglo_a / arreglo_b ** 2\n",
        "print(resultado)"
      ],
      "metadata": {
        "colab": {
          "base_uri": "https://localhost:8080/"
        },
        "id": "FcmyrIRDrtDM",
        "outputId": "c178af9d-bfdd-40b5-e950-81c4ecfb12e2"
      },
      "execution_count": null,
      "outputs": [
        {
          "output_type": "stream",
          "name": "stdout",
          "text": [
            "[0.24  0.12  0.08  0.06  0.048]\n"
          ]
        }
      ]
    },
    {
      "cell_type": "markdown",
      "source": [
        "Ejemplo de lo que sucedería si no usaramos NumPy"
      ],
      "metadata": {
        "id": "Ml6yiNCjxdoN"
      }
    },
    {
      "cell_type": "code",
      "source": [
        "weigth= [65.4,59.2,63.6,88.4,68.7]\n",
        "height=[1.73,1.68,1.71,1.89,1.79]\n",
        "weigth / height ** 2"
      ],
      "metadata": {
        "colab": {
          "base_uri": "https://localhost:8080/",
          "height": 210
        },
        "id": "3pGHeHaGxeWS",
        "outputId": "b2bae872-5da4-4ea7-f744-5e9f35023bd1"
      },
      "execution_count": null,
      "outputs": [
        {
          "output_type": "error",
          "ename": "TypeError",
          "evalue": "ignored",
          "traceback": [
            "\u001b[0;31m---------------------------------------------------------------------------\u001b[0m",
            "\u001b[0;31mTypeError\u001b[0m                                 Traceback (most recent call last)",
            "\u001b[0;32m<ipython-input-18-9348f2b3bb65>\u001b[0m in \u001b[0;36m<cell line: 3>\u001b[0;34m()\u001b[0m\n\u001b[1;32m      1\u001b[0m \u001b[0mweigth\u001b[0m\u001b[0;34m=\u001b[0m \u001b[0;34m[\u001b[0m\u001b[0;36m65.4\u001b[0m\u001b[0;34m,\u001b[0m\u001b[0;36m59.2\u001b[0m\u001b[0;34m,\u001b[0m\u001b[0;36m63.6\u001b[0m\u001b[0;34m,\u001b[0m\u001b[0;36m88.4\u001b[0m\u001b[0;34m,\u001b[0m\u001b[0;36m68.7\u001b[0m\u001b[0;34m]\u001b[0m\u001b[0;34m\u001b[0m\u001b[0;34m\u001b[0m\u001b[0m\n\u001b[1;32m      2\u001b[0m \u001b[0mheight\u001b[0m\u001b[0;34m=\u001b[0m\u001b[0;34m[\u001b[0m\u001b[0;36m1.73\u001b[0m\u001b[0;34m,\u001b[0m\u001b[0;36m1.68\u001b[0m\u001b[0;34m,\u001b[0m\u001b[0;36m1.71\u001b[0m\u001b[0;34m,\u001b[0m\u001b[0;36m1.89\u001b[0m\u001b[0;34m,\u001b[0m\u001b[0;36m1.79\u001b[0m\u001b[0;34m]\u001b[0m\u001b[0;34m\u001b[0m\u001b[0;34m\u001b[0m\u001b[0m\n\u001b[0;32m----> 3\u001b[0;31m \u001b[0mweigth\u001b[0m \u001b[0;34m/\u001b[0m \u001b[0mheight\u001b[0m \u001b[0;34m**\u001b[0m \u001b[0;36m2\u001b[0m\u001b[0;34m\u001b[0m\u001b[0;34m\u001b[0m\u001b[0m\n\u001b[0m",
            "\u001b[0;31mTypeError\u001b[0m: unsupported operand type(s) for ** or pow(): 'list' and 'int'"
          ]
        }
      ]
    },
    {
      "cell_type": "markdown",
      "source": [
        "## TIPOS DE DATOS"
      ],
      "metadata": {
        "id": "foy0NCOQsBGu"
      }
    },
    {
      "cell_type": "markdown",
      "source": [
        "Definir exactamente tipo de dato qué tipo de dato vamos a poner dentro del arreglo."
      ],
      "metadata": {
        "id": "orIEVZVOsFDL"
      }
    },
    {
      "cell_type": "markdown",
      "source": [
        "Si queremos cambiar el tipo de dato que será un arreglo, se había visto anteriormente que se podía hacer de la siguiente forma."
      ],
      "metadata": {
        "id": "3_Qd4NKrtnvx"
      }
    },
    {
      "cell_type": "code",
      "source": [
        "x = np.array(str([1,2,3,4,5]))"
      ],
      "metadata": {
        "id": "NKsn2LwcsQ7H"
      },
      "execution_count": null,
      "outputs": []
    },
    {
      "cell_type": "code",
      "source": [
        "x"
      ],
      "metadata": {
        "colab": {
          "base_uri": "https://localhost:8080/"
        },
        "id": "cvfmhGDQsmkE",
        "outputId": "0dd5d36d-35f2-46c4-a5dd-6ee2384d5ce1"
      },
      "execution_count": null,
      "outputs": [
        {
          "output_type": "execute_result",
          "data": {
            "text/plain": [
              "array('[1, 2, 3, 4, 5]', dtype='<U15')"
            ]
          },
          "metadata": {},
          "execution_count": 18
        }
      ]
    },
    {
      "cell_type": "markdown",
      "source": [
        "Como podemos ver al hacerlo de esta forma no estamos transformando a c/u de los datos en STR, por lo que la manera correcta hacerlo será la siguiente:"
      ],
      "metadata": {
        "id": "LbDy2aq8t0Bg"
      }
    },
    {
      "cell_type": "code",
      "source": [
        "y = np.array([1,2,3,4,5], dtype= str)"
      ],
      "metadata": {
        "id": "KZUCoTyXt_j5"
      },
      "execution_count": null,
      "outputs": []
    },
    {
      "cell_type": "code",
      "source": [
        "print(y)"
      ],
      "metadata": {
        "colab": {
          "base_uri": "https://localhost:8080/"
        },
        "id": "amcWwzp6uKzW",
        "outputId": "d761fe51-66c1-4fd3-e81f-5dc638bc2fc7"
      },
      "execution_count": null,
      "outputs": [
        {
          "output_type": "stream",
          "name": "stdout",
          "text": [
            "['1' '2' '3' '4' '5']\n"
          ]
        }
      ]
    },
    {
      "cell_type": "code",
      "source": [
        "y = np.array([1,2,3,4,5], dtype= bool)"
      ],
      "metadata": {
        "id": "4fxiXEbquRKA"
      },
      "execution_count": null,
      "outputs": []
    },
    {
      "cell_type": "code",
      "source": [
        "print(y)"
      ],
      "metadata": {
        "colab": {
          "base_uri": "https://localhost:8080/"
        },
        "id": "iMdW2BCQuWSR",
        "outputId": "f549b127-17a5-4a3b-889f-658420334cc0"
      },
      "execution_count": null,
      "outputs": [
        {
          "output_type": "stream",
          "name": "stdout",
          "text": [
            "[ True  True  True  True  True]\n"
          ]
        }
      ]
    },
    {
      "cell_type": "code",
      "source": [
        "y = np.array([1,2,3,4,5], dtype= float)"
      ],
      "metadata": {
        "id": "ZdNCkA4IukW2"
      },
      "execution_count": null,
      "outputs": []
    },
    {
      "cell_type": "code",
      "source": [
        "print(y)"
      ],
      "metadata": {
        "colab": {
          "base_uri": "https://localhost:8080/"
        },
        "id": "zb_yE4jjumWM",
        "outputId": "8506eef3-973e-47bf-e634-f4326731ced4"
      },
      "execution_count": null,
      "outputs": [
        {
          "output_type": "stream",
          "name": "stdout",
          "text": [
            "[1. 2. 3. 4. 5.]\n"
          ]
        }
      ]
    },
    {
      "cell_type": "markdown",
      "source": [
        "## Crear arreglos"
      ],
      "metadata": {
        "id": "Sbncg2WRaxde"
      }
    },
    {
      "cell_type": "markdown",
      "source": [
        "crear un arreglo a partir de un rango."
      ],
      "metadata": {
        "id": "d5Ggyjjma61Z"
      }
    },
    {
      "cell_type": "code",
      "source": [
        "np.arange(0,100)"
      ],
      "metadata": {
        "colab": {
          "base_uri": "https://localhost:8080/"
        },
        "id": "KCI8siN9a2DW",
        "outputId": "1c3fff69-74a9-49e7-8612-984b0a867337"
      },
      "execution_count": null,
      "outputs": [
        {
          "output_type": "execute_result",
          "data": {
            "text/plain": [
              "array([ 0,  1,  2,  3,  4,  5,  6,  7,  8,  9, 10, 11, 12, 13, 14, 15, 16,\n",
              "       17, 18, 19, 20, 21, 22, 23, 24, 25, 26, 27, 28, 29, 30, 31, 32, 33,\n",
              "       34, 35, 36, 37, 38, 39, 40, 41, 42, 43, 44, 45, 46, 47, 48, 49, 50,\n",
              "       51, 52, 53, 54, 55, 56, 57, 58, 59, 60, 61, 62, 63, 64, 65, 66, 67,\n",
              "       68, 69, 70, 71, 72, 73, 74, 75, 76, 77, 78, 79, 80, 81, 82, 83, 84,\n",
              "       85, 86, 87, 88, 89, 90, 91, 92, 93, 94, 95, 96, 97, 98, 99])"
            ]
          },
          "metadata": {},
          "execution_count": 2
        }
      ]
    },
    {
      "cell_type": "code",
      "source": [
        "np.arange(0, 20, 2)"
      ],
      "metadata": {
        "colab": {
          "base_uri": "https://localhost:8080/"
        },
        "id": "qzxLrqRfbo_s",
        "outputId": "1cfc16c3-b9f2-4083-9ee3-ea51e1ab488c"
      },
      "execution_count": null,
      "outputs": [
        {
          "output_type": "execute_result",
          "data": {
            "text/plain": [
              "array([ 0,  2,  4,  6,  8, 10, 12, 14, 16, 18])"
            ]
          },
          "metadata": {},
          "execution_count": 3
        }
      ]
    },
    {
      "cell_type": "markdown",
      "source": [
        "Crear arreglos de ceros."
      ],
      "metadata": {
        "id": "tLVTozq-byDU"
      }
    },
    {
      "cell_type": "code",
      "source": [
        "np.zeros(10)"
      ],
      "metadata": {
        "colab": {
          "base_uri": "https://localhost:8080/"
        },
        "id": "fYOW3pYeb1MI",
        "outputId": "8c49618f-0b03-4451-8635-47e17253a0a3"
      },
      "execution_count": null,
      "outputs": [
        {
          "output_type": "execute_result",
          "data": {
            "text/plain": [
              "array([0., 0., 0., 0., 0., 0., 0., 0., 0., 0.])"
            ]
          },
          "metadata": {},
          "execution_count": 4
        }
      ]
    },
    {
      "cell_type": "code",
      "source": [
        "np.zeros(10, dtype=int)"
      ],
      "metadata": {
        "colab": {
          "base_uri": "https://localhost:8080/"
        },
        "id": "viXeYzT2b4db",
        "outputId": "94741e86-9ec3-4b5d-b42b-da7672b65876"
      },
      "execution_count": null,
      "outputs": [
        {
          "output_type": "execute_result",
          "data": {
            "text/plain": [
              "array([0, 0, 0, 0, 0, 0, 0, 0, 0, 0])"
            ]
          },
          "metadata": {},
          "execution_count": 5
        }
      ]
    },
    {
      "cell_type": "code",
      "source": [
        "np.ones(10, dtype=int)"
      ],
      "metadata": {
        "colab": {
          "base_uri": "https://localhost:8080/"
        },
        "id": "BN79Px1wcEpL",
        "outputId": "dd26b371-24e8-448c-a8c9-dbe52bff3e98"
      },
      "execution_count": null,
      "outputs": [
        {
          "output_type": "execute_result",
          "data": {
            "text/plain": [
              "array([1, 1, 1, 1, 1, 1, 1, 1, 1, 1])"
            ]
          },
          "metadata": {},
          "execution_count": 7
        }
      ]
    },
    {
      "cell_type": "markdown",
      "source": [
        "crear arreglo con numeros enteros aleatorios"
      ],
      "metadata": {
        "id": "9TbgOKh0chZZ"
      }
    },
    {
      "cell_type": "code",
      "source": [
        "# (inicio, final, numelementos)\n",
        "np.random.randint(0, 100, 50)"
      ],
      "metadata": {
        "colab": {
          "base_uri": "https://localhost:8080/"
        },
        "id": "2huyJeQZcg_o",
        "outputId": "f0e8a812-0343-4cba-9e02-98ea91fa80a6"
      },
      "execution_count": null,
      "outputs": [
        {
          "output_type": "execute_result",
          "data": {
            "text/plain": [
              "array([ 9, 80,  6, 30, 34, 45, 90, 70, 13, 80,  7, 84, 52, 17, 50, 73, 23,\n",
              "       67, 22, 38, 13, 76, 89, 44, 28, 39, 68,  8, 57, 83, 12,  0, 14, 84,\n",
              "       98, 28, 52, 89, 60, 90, 69, 52, 69, 27, 21, 90, 82, 42, 52, 67])"
            ]
          },
          "metadata": {},
          "execution_count": 8
        }
      ]
    },
    {
      "cell_type": "markdown",
      "source": [
        "crear arreglo con numeros float aleatorios"
      ],
      "metadata": {
        "id": "_gm5LEmXkZTx"
      }
    },
    {
      "cell_type": "code",
      "source": [
        "rango_linspace = np.linspace(1.0, 6.0, 10)\n",
        "print(rango_linspace)"
      ],
      "metadata": {
        "colab": {
          "base_uri": "https://localhost:8080/"
        },
        "id": "YXxWFsQDkMyf",
        "outputId": "e28d9a84-0680-4b26-8492-528d9a2293ba"
      },
      "execution_count": null,
      "outputs": [
        {
          "output_type": "stream",
          "name": "stdout",
          "text": [
            "[1.         1.55555556 2.11111111 2.66666667 3.22222222 3.77777778\n",
            " 4.33333333 4.88888889 5.44444444 6.        ]\n"
          ]
        }
      ]
    },
    {
      "cell_type": "markdown",
      "source": [
        "## Obtener y actualizar datos del arreglo"
      ],
      "metadata": {
        "id": "hRCpE1Tbfrhv"
      }
    },
    {
      "cell_type": "code",
      "source": [
        "a = np.random.randint(0,10,10)\n",
        "print(a)"
      ],
      "metadata": {
        "colab": {
          "base_uri": "https://localhost:8080/"
        },
        "id": "iy065Inhfy6J",
        "outputId": "e2de91d0-d603-4163-a35b-c098a1367a8f"
      },
      "execution_count": null,
      "outputs": [
        {
          "output_type": "stream",
          "name": "stdout",
          "text": [
            "[3 5 3 6 5 0 2 1 4 9]\n"
          ]
        }
      ]
    },
    {
      "cell_type": "markdown",
      "source": [
        "Obtener datos"
      ],
      "metadata": {
        "id": "hxa4qrb7gIR7"
      }
    },
    {
      "cell_type": "code",
      "source": [
        "print(a[0])"
      ],
      "metadata": {
        "colab": {
          "base_uri": "https://localhost:8080/"
        },
        "id": "qd8i13GqgEhk",
        "outputId": "9c71b44a-0a44-491f-af6d-25dd1edafede"
      },
      "execution_count": null,
      "outputs": [
        {
          "output_type": "stream",
          "name": "stdout",
          "text": [
            "3\n"
          ]
        }
      ]
    },
    {
      "cell_type": "code",
      "source": [
        "print(a[-2])"
      ],
      "metadata": {
        "colab": {
          "base_uri": "https://localhost:8080/"
        },
        "id": "p6bUxCU5gLZR",
        "outputId": "b1877a89-1685-4ef0-ab75-44bd20a73eec"
      },
      "execution_count": null,
      "outputs": [
        {
          "output_type": "stream",
          "name": "stdout",
          "text": [
            "4\n"
          ]
        }
      ]
    },
    {
      "cell_type": "markdown",
      "source": [
        "Cambiar datos"
      ],
      "metadata": {
        "id": "Ez9bA_SVghM3"
      }
    },
    {
      "cell_type": "code",
      "source": [
        "a[0]= 100\n",
        "print(a)"
      ],
      "metadata": {
        "colab": {
          "base_uri": "https://localhost:8080/"
        },
        "id": "6MUKcSr1gad9",
        "outputId": "5429f4d8-1fe6-4419-ac90-bb7364e54ca5"
      },
      "execution_count": null,
      "outputs": [
        {
          "output_type": "stream",
          "name": "stdout",
          "text": [
            "[100   5   3   6   5   0   2   1   4   9]\n"
          ]
        }
      ]
    },
    {
      "cell_type": "markdown",
      "source": [
        "## SubArreglos"
      ],
      "metadata": {
        "id": "22cJNLMJgm_J"
      }
    },
    {
      "cell_type": "code",
      "source": [
        "num_randoms = np.random.randint(0, 50, 80)\n",
        "print(num_randoms)"
      ],
      "metadata": {
        "colab": {
          "base_uri": "https://localhost:8080/"
        },
        "id": "gND3uc0cgpoT",
        "outputId": "def6195f-5ba0-4fcf-a211-a5ec9f8d6da0"
      },
      "execution_count": null,
      "outputs": [
        {
          "output_type": "stream",
          "name": "stdout",
          "text": [
            "[23 48  0  1  9 44 49 38 43 40  6 41 22 47 20 41 20 23 34  9  5 11  6 48\n",
            " 10 29 24 24 40 25 31 23 14 10 22 49 15 30 25 41 13 30 30 28  2 17 10 21\n",
            " 15 11 45 48 44 13  8 38 37 30 10 28 28  8 40 43 44 33 29 39 26  7 24 27\n",
            " 20 27 47 29  0 16 16 43]\n"
          ]
        }
      ]
    },
    {
      "cell_type": "code",
      "source": [
        "# [inicio:finial:saltos]\n",
        "print(num_randoms[:20])"
      ],
      "metadata": {
        "colab": {
          "base_uri": "https://localhost:8080/"
        },
        "id": "ikJu9Y-7g4TN",
        "outputId": "d3a4912e-0ccc-49ea-9174-b93204ff655d"
      },
      "execution_count": null,
      "outputs": [
        {
          "output_type": "stream",
          "name": "stdout",
          "text": [
            "[23 48  0  1  9 44 49 38 43 40  6 41 22 47 20 41 20 23 34  9]\n"
          ]
        }
      ]
    },
    {
      "cell_type": "markdown",
      "source": [
        "¿Cómo podríamos consultar datos específicos dentro del arreglo?"
      ],
      "metadata": {
        "id": "Q71CSRmaiBrV"
      }
    },
    {
      "cell_type": "code",
      "source": [
        "print(num_randoms[[1,4,20]])"
      ],
      "metadata": {
        "colab": {
          "base_uri": "https://localhost:8080/"
        },
        "id": "phkNkeyGiGnB",
        "outputId": "24bd3e18-7674-4845-a61b-fb7bbbbc4259"
      },
      "execution_count": null,
      "outputs": [
        {
          "output_type": "stream",
          "name": "stdout",
          "text": [
            "[48  9  5]\n"
          ]
        }
      ]
    },
    {
      "cell_type": "markdown",
      "source": [
        "## Vectorizar funciones"
      ],
      "metadata": {
        "id": "8Wejf12mrNqa"
      }
    },
    {
      "cell_type": "code",
      "source": [
        "z = np.random.randint(0,10,20)\n",
        "print(z)"
      ],
      "metadata": {
        "colab": {
          "base_uri": "https://localhost:8080/"
        },
        "id": "h-Ku0_QYrSLB",
        "outputId": "e1ca0e27-1c60-4d78-eee1-74dfb1107746"
      },
      "execution_count": null,
      "outputs": [
        {
          "output_type": "stream",
          "name": "stdout",
          "text": [
            "[1 3 4 9 0 8 9 6 1 9 3 8 0 5 3 0 2 5 2 8]\n"
          ]
        }
      ]
    },
    {
      "cell_type": "code",
      "source": [
        "def operacion(valor):\n",
        "    return (valor ** 2) + 2\n",
        "    \"\"\"\n",
        "    Args: valor\n",
        "\n",
        "    return (3 ** 2) + 2\n",
        "    \"\"\"\n",
        "operacion(3)"
      ],
      "metadata": {
        "colab": {
          "base_uri": "https://localhost:8080/"
        },
        "id": "SyIIzV4Frlyw",
        "outputId": "70776eb2-80eb-42a3-eacd-f3bf222e2e7e"
      },
      "execution_count": null,
      "outputs": [
        {
          "output_type": "execute_result",
          "data": {
            "text/plain": [
              "11"
            ]
          },
          "metadata": {},
          "execution_count": 31
        }
      ]
    },
    {
      "cell_type": "code",
      "source": [
        "operacion(z)"
      ],
      "metadata": {
        "colab": {
          "base_uri": "https://localhost:8080/"
        },
        "id": "ZZK2-XMrsKTa",
        "outputId": "99b4714b-2170-4f86-d405-b9bf5efb8f44"
      },
      "execution_count": null,
      "outputs": [
        {
          "output_type": "execute_result",
          "data": {
            "text/plain": [
              "array([ 3, 11, 18, 83,  2, 66, 83, 38,  3, 83, 11, 66,  2, 27, 11,  2,  6,\n",
              "       27,  6, 66])"
            ]
          },
          "metadata": {},
          "execution_count": 32
        }
      ]
    },
    {
      "cell_type": "code",
      "source": [
        "for valor in z:\n",
        "    print(operacion(valor))"
      ],
      "metadata": {
        "colab": {
          "base_uri": "https://localhost:8080/"
        },
        "id": "-buYoU6DsXq3",
        "outputId": "8e13c34d-0520-43da-b3fc-fa5f8d100697"
      },
      "execution_count": null,
      "outputs": [
        {
          "output_type": "stream",
          "name": "stdout",
          "text": [
            "3\n",
            "11\n",
            "18\n",
            "83\n",
            "2\n",
            "66\n",
            "83\n",
            "38\n",
            "3\n",
            "83\n",
            "11\n",
            "66\n",
            "2\n",
            "27\n",
            "11\n",
            "2\n",
            "6\n",
            "27\n",
            "6\n",
            "66\n"
          ]
        }
      ]
    },
    {
      "cell_type": "markdown",
      "source": [
        "con vectorize"
      ],
      "metadata": {
        "id": "jlVoLaWo1mpz"
      }
    },
    {
      "cell_type": "code",
      "source": [
        "vector = np.vectorize(operacion)\n",
        "vector(z)"
      ],
      "metadata": {
        "colab": {
          "base_uri": "https://localhost:8080/"
        },
        "id": "4oODACTmtJ8c",
        "outputId": "db0517dd-7b09-4109-8ea6-07a31cb77d65"
      },
      "execution_count": null,
      "outputs": [
        {
          "output_type": "execute_result",
          "data": {
            "text/plain": [
              "array([ 3, 11, 18, 83,  2, 66, 83, 38,  3, 83, 11, 66,  2, 27, 11,  2,  6,\n",
              "       27,  6, 66])"
            ]
          },
          "metadata": {},
          "execution_count": 37
        }
      ]
    }
  ]
}