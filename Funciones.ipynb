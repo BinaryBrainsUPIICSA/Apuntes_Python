{
  "nbformat": 4,
  "nbformat_minor": 0,
  "metadata": {
    "colab": {
      "provenance": [],
      "authorship_tag": "ABX9TyOEjHrgayJdGpoRtrwn8JXr",
      "include_colab_link": true
    },
    "kernelspec": {
      "name": "python3",
      "display_name": "Python 3"
    },
    "language_info": {
      "name": "python"
    }
  },
  "cells": [
    {
      "cell_type": "markdown",
      "metadata": {
        "id": "view-in-github",
        "colab_type": "text"
      },
      "source": [
        "<a href=\"https://colab.research.google.com/github/BinaryBrainsUPIICSA/Apuntes_Python/blob/main/Funciones.ipynb\" target=\"_parent\"><img src=\"https://colab.research.google.com/assets/colab-badge.svg\" alt=\"Open In Colab\"/></a>"
      ]
    },
    {
      "cell_type": "code",
      "execution_count": 4,
      "metadata": {
        "colab": {
          "base_uri": "https://localhost:8080/"
        },
        "id": "AlJLV1LIm0-J",
        "outputId": "82c7db80-de78-4998-8d3d-203bbaf6498c"
      },
      "outputs": [
        {
          "output_type": "stream",
          "name": "stdout",
          "text": [
            "Funcion que permite la suma de 2 numeros\n"
          ]
        }
      ],
      "source": [
        "# Las funciones permiten almacenar nuestro codigo en un bloque con la posibilidad de reutilzar código\n",
        "\n",
        "# se define la funcion\n",
        "def suma_dos_numeros():\n",
        "    print('Funcion que permite la suma de 2 numeros')\n",
        "\n",
        "\n",
        "# se manda a llamar la funcion\n",
        "suma_dos_numeros()"
      ]
    },
    {
      "cell_type": "code",
      "source": [
        "# FUNCION CON PARAMETROS Y ARGUMENTOS\n",
        "# los parametros serán las variables que tendrá la función\n",
        "def suma(num1, num2):\n",
        "    resultado = num1 + num2\n",
        "    #print('el resultado de la funcion de la suma es',resultado)\n",
        "    return resultado # sirve para finalizar la función sin antes retorna un valor\n",
        "\n",
        "# los argumentos son los valores que tendrán los parametros de nuestra función\n",
        "suma(20,40)\n",
        "\n",
        "# tratar de que las funciones no impriman el resultado, unicamente debe de estar la accion que realiza\n",
        "\n",
        "print(suma(90,10))"
      ],
      "metadata": {
        "colab": {
          "base_uri": "https://localhost:8080/"
        },
        "id": "ikErnmaRnOrY",
        "outputId": "b1c36086-32e1-4772-eb2c-601dfb35ae52"
      },
      "execution_count": 2,
      "outputs": [
        {
          "output_type": "stream",
          "name": "stdout",
          "text": [
            "100\n"
          ]
        }
      ]
    },
    {
      "cell_type": "code",
      "source": [
        "# asignar valores en funciones\n",
        "def resta(numero1, numero2=100):\n",
        "    return numero1 - numero2\n",
        "\n",
        "r = resta(10)\n",
        "print(r)"
      ],
      "metadata": {
        "colab": {
          "base_uri": "https://localhost:8080/"
        },
        "id": "cmcnSd31nXQX",
        "outputId": "9b0416ee-90d4-46dc-b692-c5ad5f8cb82d"
      },
      "execution_count": 3,
      "outputs": [
        {
          "output_type": "stream",
          "name": "stdout",
          "text": [
            "-90\n"
          ]
        }
      ]
    }
  ]
}