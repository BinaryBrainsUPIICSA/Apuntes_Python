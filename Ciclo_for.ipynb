{
  "nbformat": 4,
  "nbformat_minor": 0,
  "metadata": {
    "colab": {
      "provenance": [],
      "authorship_tag": "ABX9TyNiGvvA1xK1R9AlnS9NjBXU",
      "include_colab_link": true
    },
    "kernelspec": {
      "name": "python3",
      "display_name": "Python 3"
    },
    "language_info": {
      "name": "python"
    }
  },
  "cells": [
    {
      "cell_type": "markdown",
      "metadata": {
        "id": "view-in-github",
        "colab_type": "text"
      },
      "source": [
        "<a href=\"https://colab.research.google.com/github/BinaryBrainsUPIICSA/Apuntes_Python/blob/main/Ciclo_for.ipynb\" target=\"_parent\"><img src=\"https://colab.research.google.com/assets/colab-badge.svg\" alt=\"Open In Colab\"/></a>"
      ]
    },
    {
      "cell_type": "code",
      "execution_count": 1,
      "metadata": {
        "colab": {
          "base_uri": "https://localhost:8080/"
        },
        "id": "eu0tm-Spn9Mo",
        "outputId": "82cda468-b22d-49e6-99f2-d0fcc1fce352"
      },
      "outputs": [
        {
          "output_type": "stream",
          "name": "stdout",
          "text": [
            "{'id': 1, 'nombre': 'Python Fundamentos'}\n",
            "{'id': 2, 'nombre': 'Pandas & NumPy'}\n",
            "{'id': 3, 'nombre': 'Bases de Datos'}\n",
            "{'id': 4, 'nombre': 'Data Analyst'}\n"
          ]
        }
      ],
      "source": [
        "# for\n",
        "\n",
        "# itera sobre c/u de los elementos de una coleccion\n",
        "\n",
        "\n",
        "user = {\n",
        "    'id': 9,\n",
        "    'nombre': 'Edu',\n",
        "    'email': 'navarrete.eduardo@hotmail.com',\n",
        "    'cursos': [\n",
        "        {\n",
        "            'id':1,\n",
        "            'nombre': 'Python Fundamentos'\n",
        "        },\n",
        "        {\n",
        "            'id':2,\n",
        "            'nombre':'Pandas & NumPy'\n",
        "        },\n",
        "        {\n",
        "            'id':3,\n",
        "            'nombre': 'Bases de Datos'\n",
        "        },\n",
        "        {\n",
        "            'id':4,\n",
        "            'nombre': 'Data Analyst'\n",
        "        }\n",
        "    ]\n",
        "}\n",
        "\n",
        "# por c/u de los cursos dentro de la variable cursos\n",
        "# la variable curso obtendrá el valor de c/variable\n",
        "cursos = user.get('cursos','no existe chavo :(')\n",
        "for curso in cursos:\n",
        "    print(curso)"
      ]
    },
    {
      "cell_type": "code",
      "source": [
        "for curso in cursos:\n",
        "    if curso.get('nombre'):\n",
        "        print('El nombre del curso es:',curso['nombre'])"
      ],
      "metadata": {
        "colab": {
          "base_uri": "https://localhost:8080/"
        },
        "id": "whRXLEoZoGBN",
        "outputId": "0254b0d3-04bd-4ffd-b05a-e64db2b85009"
      },
      "execution_count": 3,
      "outputs": [
        {
          "output_type": "stream",
          "name": "stdout",
          "text": [
            "El nombre del curso es: Python Fundamentos\n",
            "El nombre del curso es: Pandas & NumPy\n",
            "El nombre del curso es: Bases de Datos\n",
            "El nombre del curso es: Data Analyst\n"
          ]
        }
      ]
    },
    {
      "cell_type": "code",
      "source": [
        "# operador morsa\n",
        "print('OPERADOR MORSA')\n",
        "for curso in cursos:\n",
        "    if nombre:= curso.get('nombre'): # se almacena valor que se obtiene en la variable nombre\n",
        "        print('El nombre del curso es:', nombre)"
      ],
      "metadata": {
        "colab": {
          "base_uri": "https://localhost:8080/"
        },
        "id": "IMBfqgECoKvL",
        "outputId": "14e3d31e-13ad-43b9-cd50-a0301870d683"
      },
      "execution_count": 4,
      "outputs": [
        {
          "output_type": "stream",
          "name": "stdout",
          "text": [
            "OPERADOR MORSA\n",
            "El nombre del curso es: Python Fundamentos\n",
            "El nombre del curso es: Pandas & NumPy\n",
            "El nombre del curso es: Bases de Datos\n",
            "El nombre del curso es: Data Analyst\n"
          ]
        }
      ]
    }
  ]
}